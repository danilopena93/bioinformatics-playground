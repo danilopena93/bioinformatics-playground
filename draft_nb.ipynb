{
 "cells": [
  {
   "cell_type": "code",
   "execution_count": 1,
   "metadata": {},
   "outputs": [],
   "source": [
    "import pandas as pd\n",
    "import numpy as np\n",
    "\n",
    "import matplotlib.pyplot as plt\n",
    "import seaborn as sns\n",
    "%matplotlib inline\n",
    "\n",
    "from sklearn import preprocessing"
   ]
  },
  {
   "cell_type": "markdown",
   "metadata": {},
   "source": [
    "## Pre-Processing"
   ]
  },
  {
   "cell_type": "markdown",
   "metadata": {},
   "source": [
    "### Metadata"
   ]
  },
  {
   "cell_type": "code",
   "execution_count": 2,
   "metadata": {},
   "outputs": [],
   "source": [
    "metadata = pd.read_csv('SraRunTable.txt', sep='\\t')"
   ]
  },
  {
   "cell_type": "code",
   "execution_count": 3,
   "metadata": {},
   "outputs": [
    {
     "data": {
      "text/html": [
       "<div>\n",
       "<style scoped>\n",
       "    .dataframe tbody tr th:only-of-type {\n",
       "        vertical-align: middle;\n",
       "    }\n",
       "\n",
       "    .dataframe tbody tr th {\n",
       "        vertical-align: top;\n",
       "    }\n",
       "\n",
       "    .dataframe thead th {\n",
       "        text-align: right;\n",
       "    }\n",
       "</style>\n",
       "<table border=\"1\" class=\"dataframe\">\n",
       "  <thead>\n",
       "    <tr style=\"text-align: right;\">\n",
       "      <th></th>\n",
       "      <th>BioSample</th>\n",
       "      <th>DATASTORE_filetype</th>\n",
       "      <th>Experiment</th>\n",
       "      <th>MBases</th>\n",
       "      <th>MBytes</th>\n",
       "      <th>Organism</th>\n",
       "      <th>Run</th>\n",
       "      <th>SRA_Sample</th>\n",
       "      <th>Sample_Name</th>\n",
       "      <th>environment_biome</th>\n",
       "      <th>...</th>\n",
       "      <th>SRA_Study</th>\n",
       "      <th>colection_date</th>\n",
       "      <th>geographic_location_country_and_or_sea</th>\n",
       "      <th>human_associated_environmental_package</th>\n",
       "      <th>investigation_type</th>\n",
       "      <th>latitude</th>\n",
       "      <th>longitude</th>\n",
       "      <th>project_name</th>\n",
       "      <th>sequencing_method</th>\n",
       "      <th>sample_type</th>\n",
       "    </tr>\n",
       "  </thead>\n",
       "  <tbody>\n",
       "    <tr>\n",
       "      <th>0</th>\n",
       "      <td>SAMEA4044115</td>\n",
       "      <td>sra unknown_contigs</td>\n",
       "      <td>ERX1537982</td>\n",
       "      <td>45</td>\n",
       "      <td>29</td>\n",
       "      <td>human oral metagenome</td>\n",
       "      <td>ERR1466857</td>\n",
       "      <td>ERS1215225</td>\n",
       "      <td>SAMEA4044115 ERS1215225</td>\n",
       "      <td>oral</td>\n",
       "      <td>...</td>\n",
       "      <td>ERP016180</td>\n",
       "      <td>20-Jan-13</td>\n",
       "      <td>Finland</td>\n",
       "      <td>human-associated</td>\n",
       "      <td>metagenome</td>\n",
       "      <td>65.009056</td>\n",
       "      <td>25.518028</td>\n",
       "      <td>Oral and nasal microbiome in PD</td>\n",
       "      <td>Illumina MiSeq</td>\n",
       "      <td>control</td>\n",
       "    </tr>\n",
       "    <tr>\n",
       "      <th>1</th>\n",
       "      <td>SAMEA4044116</td>\n",
       "      <td>sra unknown_contigs</td>\n",
       "      <td>ERX1537983</td>\n",
       "      <td>44</td>\n",
       "      <td>28</td>\n",
       "      <td>human oral metagenome</td>\n",
       "      <td>ERR1466858</td>\n",
       "      <td>ERS1215226</td>\n",
       "      <td>SAMEA4044116 ERS1215226</td>\n",
       "      <td>oral</td>\n",
       "      <td>...</td>\n",
       "      <td>ERP016180</td>\n",
       "      <td>20-Jan-13</td>\n",
       "      <td>Finland</td>\n",
       "      <td>human-associated</td>\n",
       "      <td>metagenome</td>\n",
       "      <td>65.009056</td>\n",
       "      <td>25.518028</td>\n",
       "      <td>Oral and nasal microbiome in PD</td>\n",
       "      <td>Illumina MiSeq</td>\n",
       "      <td>control</td>\n",
       "    </tr>\n",
       "    <tr>\n",
       "      <th>2</th>\n",
       "      <td>SAMEA4044117</td>\n",
       "      <td>sra unknown_contigs</td>\n",
       "      <td>ERX1537984</td>\n",
       "      <td>39</td>\n",
       "      <td>24</td>\n",
       "      <td>human oral metagenome</td>\n",
       "      <td>ERR1466859</td>\n",
       "      <td>ERS1215227</td>\n",
       "      <td>SAMEA4044117 ERS1215227</td>\n",
       "      <td>oral</td>\n",
       "      <td>...</td>\n",
       "      <td>ERP016180</td>\n",
       "      <td>20-Jan-13</td>\n",
       "      <td>Finland</td>\n",
       "      <td>human-associated</td>\n",
       "      <td>metagenome</td>\n",
       "      <td>65.009056</td>\n",
       "      <td>25.518028</td>\n",
       "      <td>Oral and nasal microbiome in PD</td>\n",
       "      <td>Illumina MiSeq</td>\n",
       "      <td>control</td>\n",
       "    </tr>\n",
       "    <tr>\n",
       "      <th>3</th>\n",
       "      <td>SAMEA4044118</td>\n",
       "      <td>sra unknown_contigs</td>\n",
       "      <td>ERX1537985</td>\n",
       "      <td>33</td>\n",
       "      <td>21</td>\n",
       "      <td>human oral metagenome</td>\n",
       "      <td>ERR1466860</td>\n",
       "      <td>ERS1215228</td>\n",
       "      <td>SAMEA4044118 ERS1215228</td>\n",
       "      <td>oral</td>\n",
       "      <td>...</td>\n",
       "      <td>ERP016180</td>\n",
       "      <td>20-Jan-13</td>\n",
       "      <td>Finland</td>\n",
       "      <td>human-associated</td>\n",
       "      <td>metagenome</td>\n",
       "      <td>65.009056</td>\n",
       "      <td>25.518028</td>\n",
       "      <td>Oral and nasal microbiome in PD</td>\n",
       "      <td>Illumina MiSeq</td>\n",
       "      <td>control</td>\n",
       "    </tr>\n",
       "    <tr>\n",
       "      <th>4</th>\n",
       "      <td>SAMEA4044119</td>\n",
       "      <td>sra unknown_contigs</td>\n",
       "      <td>ERX1537986</td>\n",
       "      <td>39</td>\n",
       "      <td>25</td>\n",
       "      <td>human oral metagenome</td>\n",
       "      <td>ERR1466861</td>\n",
       "      <td>ERS1215229</td>\n",
       "      <td>SAMEA4044119 ERS1215229</td>\n",
       "      <td>oral</td>\n",
       "      <td>...</td>\n",
       "      <td>ERP016180</td>\n",
       "      <td>20-Jan-13</td>\n",
       "      <td>Finland</td>\n",
       "      <td>human-associated</td>\n",
       "      <td>metagenome</td>\n",
       "      <td>65.009056</td>\n",
       "      <td>25.518028</td>\n",
       "      <td>Oral and nasal microbiome in PD</td>\n",
       "      <td>Illumina MiSeq</td>\n",
       "      <td>control</td>\n",
       "    </tr>\n",
       "  </tbody>\n",
       "</table>\n",
       "<p>5 rows × 38 columns</p>\n",
       "</div>"
      ],
      "text/plain": [
       "      BioSample   DATASTORE_filetype  Experiment  MBases  MBytes  \\\n",
       "0  SAMEA4044115  sra unknown_contigs  ERX1537982      45      29   \n",
       "1  SAMEA4044116  sra unknown_contigs  ERX1537983      44      28   \n",
       "2  SAMEA4044117  sra unknown_contigs  ERX1537984      39      24   \n",
       "3  SAMEA4044118  sra unknown_contigs  ERX1537985      33      21   \n",
       "4  SAMEA4044119  sra unknown_contigs  ERX1537986      39      25   \n",
       "\n",
       "                Organism         Run  SRA_Sample              Sample_Name  \\\n",
       "0  human oral metagenome  ERR1466857  ERS1215225  SAMEA4044115 ERS1215225   \n",
       "1  human oral metagenome  ERR1466858  ERS1215226  SAMEA4044116 ERS1215226   \n",
       "2  human oral metagenome  ERR1466859  ERS1215227  SAMEA4044117 ERS1215227   \n",
       "3  human oral metagenome  ERR1466860  ERS1215228  SAMEA4044118 ERS1215228   \n",
       "4  human oral metagenome  ERR1466861  ERS1215229  SAMEA4044119 ERS1215229   \n",
       "\n",
       "  environment_biome     ...       SRA_Study colection_date  \\\n",
       "0              oral     ...       ERP016180      20-Jan-13   \n",
       "1              oral     ...       ERP016180      20-Jan-13   \n",
       "2              oral     ...       ERP016180      20-Jan-13   \n",
       "3              oral     ...       ERP016180      20-Jan-13   \n",
       "4              oral     ...       ERP016180      20-Jan-13   \n",
       "\n",
       "  geographic_location_country_and_or_sea  \\\n",
       "0                                Finland   \n",
       "1                                Finland   \n",
       "2                                Finland   \n",
       "3                                Finland   \n",
       "4                                Finland   \n",
       "\n",
       "  human_associated_environmental_package  investigation_type   latitude  \\\n",
       "0                       human-associated          metagenome  65.009056   \n",
       "1                       human-associated          metagenome  65.009056   \n",
       "2                       human-associated          metagenome  65.009056   \n",
       "3                       human-associated          metagenome  65.009056   \n",
       "4                       human-associated          metagenome  65.009056   \n",
       "\n",
       "   longitude                     project_name sequencing_method  sample_type  \n",
       "0  25.518028  Oral and nasal microbiome in PD    Illumina MiSeq      control  \n",
       "1  25.518028  Oral and nasal microbiome in PD    Illumina MiSeq      control  \n",
       "2  25.518028  Oral and nasal microbiome in PD    Illumina MiSeq      control  \n",
       "3  25.518028  Oral and nasal microbiome in PD    Illumina MiSeq      control  \n",
       "4  25.518028  Oral and nasal microbiome in PD    Illumina MiSeq      control  \n",
       "\n",
       "[5 rows x 38 columns]"
      ]
     },
     "execution_count": 3,
     "metadata": {},
     "output_type": "execute_result"
    }
   ],
   "source": [
    "metadata.head()"
   ]
  },
  {
   "cell_type": "code",
   "execution_count": 4,
   "metadata": {},
   "outputs": [
    {
     "data": {
      "text/plain": [
       "Index(['BioSample', 'DATASTORE_filetype', 'Experiment', 'MBases', 'MBytes',\n",
       "       'Organism', 'Run', 'SRA_Sample', 'Sample_Name', 'environment_biome',\n",
       "       'environment_feature', 'environment_material', 'host_sex', 'Assay_Type',\n",
       "       'AvgSpotLen', 'BioProject', 'Center_Name', 'Consent',\n",
       "       'DATASTORE_provider', 'InsertSize', 'Instrument', 'LibraryLayout',\n",
       "       'LibrarySelection', 'LibrarySource', 'Library_Name', 'LoadDate',\n",
       "       'Platform', 'ReleaseDate', 'SRA_Study', 'colection_date',\n",
       "       'geographic_location_country_and_or_sea',\n",
       "       'human_associated_environmental_package', 'investigation_type',\n",
       "       'latitude', 'longitude', 'project_name', 'sequencing_method',\n",
       "       'sample_type'],\n",
       "      dtype='object')"
      ]
     },
     "execution_count": 4,
     "metadata": {},
     "output_type": "execute_result"
    }
   ],
   "source": [
    "metadata.columns"
   ]
  },
  {
   "cell_type": "code",
   "execution_count": 5,
   "metadata": {},
   "outputs": [
    {
     "data": {
      "text/plain": [
       "(284, 38)"
      ]
     },
     "execution_count": 5,
     "metadata": {},
     "output_type": "execute_result"
    }
   ],
   "source": [
    "metadata.shape"
   ]
  },
  {
   "cell_type": "code",
   "execution_count": 6,
   "metadata": {},
   "outputs": [
    {
     "data": {
      "text/plain": [
       "Finland    284\n",
       "Name: geographic_location_country_and_or_sea, dtype: int64"
      ]
     },
     "execution_count": 6,
     "metadata": {},
     "output_type": "execute_result"
    }
   ],
   "source": [
    "metadata['geographic_location_country_and_or_sea'].value_counts()"
   ]
  },
  {
   "cell_type": "code",
   "execution_count": 7,
   "metadata": {},
   "outputs": [
    {
     "data": {
      "text/plain": [
       "oral     148\n",
       "nasal    136\n",
       "Name: environment_biome, dtype: int64"
      ]
     },
     "execution_count": 7,
     "metadata": {},
     "output_type": "execute_result"
    }
   ],
   "source": [
    "metadata['environment_biome'].value_counts()"
   ]
  },
  {
   "cell_type": "code",
   "execution_count": 8,
   "metadata": {},
   "outputs": [
    {
     "data": {
      "text/plain": [
       "female    143\n",
       "male      141\n",
       "Name: host_sex, dtype: int64"
      ]
     },
     "execution_count": 8,
     "metadata": {},
     "output_type": "execute_result"
    }
   ],
   "source": [
    "metadata['host_sex'].value_counts()"
   ]
  },
  {
   "cell_type": "markdown",
   "metadata": {},
   "source": [
    "### OTU Table"
   ]
  },
  {
   "cell_type": "code",
   "execution_count": 9,
   "metadata": {},
   "outputs": [],
   "source": [
    "otu_table = pd.read_csv('parkinsons_otu_table.tsv', sep='\\t')"
   ]
  },
  {
   "cell_type": "code",
   "execution_count": 10,
   "metadata": {},
   "outputs": [
    {
     "data": {
      "text/html": [
       "<div>\n",
       "<style scoped>\n",
       "    .dataframe tbody tr th:only-of-type {\n",
       "        vertical-align: middle;\n",
       "    }\n",
       "\n",
       "    .dataframe tbody tr th {\n",
       "        vertical-align: top;\n",
       "    }\n",
       "\n",
       "    .dataframe thead th {\n",
       "        text-align: right;\n",
       "    }\n",
       "</style>\n",
       "<table border=\"1\" class=\"dataframe\">\n",
       "  <thead>\n",
       "    <tr style=\"text-align: right;\">\n",
       "      <th></th>\n",
       "      <th>TAGAGAGTTTGATCATGGCTCAGATTGAACGCTGGCGGCATGCCTTACACATGCAAGTCGAACGGCAGCACGGGAGCAATCCTGGTGGCGAGTGGCGAACGGGTGAGTAATACATCGGAACGTGCCCTGTAGTGGGGGATAACTAGTCGAAAGACTAGCTAATACCGCATACGACCTGAGGGTGAAAGTGGGGGACCGCAAGGCCTCATGCTATAGGAGCGGCCGATGTCTGATTAGCTAGTTGGTGGGGTAAAGGCCTACCAAGGCGACGATCAGTAGCTGGTCTGAGAGGACGATCAGCCACACTGGGACTGAGACACGGCCCAGACTCCTACGGGAGGCAGCAGTGGGGAATTTTGGACAATGGGGGCAACCCTGATCCAGCAATGCCGCGTGTGTGAAGAAGGCCTTCGGGTTGTAAAGCACTTTTGTCCGGGAAGAAATCGCACCTGATAATACCGGGTGTGGATGACGGTACCGGAAGAATAAGGACCGGCTAACTACGTGCCAGCAGCCGCGGTAATACG</th>\n",
       "      <th>TAGAGAGTTTGATCATGGCTCAGATTGAACGCTGGCGGCATGCCTTACACATGCAAGTCGAACGGCAGCACGGGAGCAATCCTGGTGGCGAGTGGCGAACGGGTGAGTAATACATCGGAACGTGCCCTGTAGTGGGGGATAACTAGTCGAAAGACTAGCTAATACCGCATACGACCTGAGGGTGAAAGTGGGGGACCGCAAGGCCTCATGCTATAGGAGCGGCCGATGTCTGATTAGCTAGTTGGTGGGGTAAAGGCCTACCAAGGCGACGATCAGTAGCTGGTCTGAGAGGACGATCAGCCACACTGGGACTGAGACACGGCCCAGACTCCTACGGGAGGCAGCAGTGGGGAATTTTGGACAATGGGGGCAACCCTGATCCAGCAATGCCGCGTGTGTGAAGAAGGCCTTCGGGTTGTAAAGCACTTTTGTCCGGGAAGAAATCGCACCTGATAATACCGGGTGTGGATGACGGTACCGGAAGAATAAGGACCGGCTAACTACGTGCCAGCAGCCGCGGTAATACTA</th>\n",
       "      <th>TAGAGAGTTTGATCCTGGCTCAGATTGAACGCTGGCGGCATGCCTTACACATGCAAGTCGAACGGCAGCACGGGAGCAATCCTGGTGGCGAGTGGCGAACGGGTGAGTAATACATCGGAACGTGCCCTGTAGTGGGGGATAACTAGTCGAAAGACTAGCTAATACCGCATACGACCTGAGGGTGAAAGTGGGGGACCGCAAGGCCTCATGCTATAGGAGCGGCCGATGTCTGATTAGCTAGTTGGTGGGGTAAAGGCCTACCAAGGCGACGATCAGTAGCTGGTCTGAGAGGACGATCAGCCACACTGGGACTGAGACACGGCCCAGACTCCTACGGGAGGCAGCAGTGGGGAATTTTGGACAATGGGGGCAACCCTGATCCAGCAATGCCGCGTGTGTGAAGAAGGCCTTCGGGTTGTAAAGCACTTTTGTCCGGGAAGAAATCGCACCTGATAATACCGGGTGTGGATGACGGTACCGGAAGAATAAGGACCGGCTAACTACGTGCCAGCAGCCGCGGTAATACG</th>\n",
       "      <th>TAGAGAGTTTGATCCTGGCTCAGATTGAACGCTGGCGGCATGCCTTACACATGCAAGTCGAACGGCAGCACGGGAGCAATCCTGGTGGCGAGTGGCGAACGGGTGAGTAATACATCGGAACGTGCCCTGTAGTGGGGGATAACTAGTCGAAAGACTAGCTAATACCGCATACGACCTGAGGGTGAAAGTGGGGGACCGCAAGGCCTCATGCTATAGGAGCGGCCGATGTCTGATTAGCTAGTTGGTGGGGTAAAGGCCTACCAAGGCGACGATCAGTAGCTGGTCTGAGAGGACGATCAGCCACACTGGGACTGAGACACGGCCCAGACTCCTACGGGAGGCAGCAGTGGGGAATTTTGGACAATGGGGGCAACCCTGATCCAGCAATGCCGCGTGTGTGAAGAAGGCCTTCGGGTTGTAAAGCACTTTTGTCCGGGAAGAAATCGCACCTGATAATACCGGGTGTGGATGACGGTACCGGAAGAATAAGGACCGGCTAACTACGTGCCAGCAGCCGCGGTAATACTA</th>\n",
       "      <th>TAGAGAGTTTGATCATGGCTCAGGACGAACGCTGGCGGCGTGCTTAACACATGCAAGTCGAACGGAAAGGCCTTTTCGGAGGTACTCGAGTGGCGAACGGGTGAGTAACACGTGGGTGATCTGCCCTGCACTCTGGGATAAGCCTGGGAAACTGGGTCTAATACCGGATAGGACCGCACTTTAGTGTGTGTGGTGGAAAGTTTTTTCGGTGTAGGATGAGCCCGCGGCCTATCAGCTTGTTGGTGGGGTAATGGCCTACCAAGGCGGCGACGGGTAGCCGGACTGAGAGGTTGGTCGGCCACATTGGGACTGAGATACGGCCCAGACTCCTACGGGAGGCAGCAGTGGGGAATATTGCACAATGGGCGCAAGCCTGATGCAGCGACGCCGCGTGGGGGATGACGGCCTTCGGGTTGTAAACTCCTTTCGCCAGGGACGAAGCGTTTTGTGACGGTACCTGGAGAAGAAGCACCGGCTAACTACGTGCCAGCAGCCGCGGTAATACTA</th>\n",
       "      <th>AGAGTTTGATCATGGCTCAGGACGAACGCTGGCGGCGTGCCTAATACATGCAAGTAGAACGCTGAAGGAGGAGCTTGCTTCTCTGGATGAGTTGCGAACGGGTGAGTAACGCGTAGGTAACCTGCCTGGTAGCGGGGGATAACTATTGGAAACGATAGCTAATACCGCATAATAGTAGATGTTGCATGACATTTGCTTAAAAGGTGCAATTGCATCACTACCAGATGGACCTGCGTTGTATTAGCTAGTTGGTGGGGTAACGGCTCACCAAGGCGACGATACATAGCCGACCTGAGAGGGTGATCGGCCACACTGGGACTGAGACACGGCCCAGACTCCTACGGGAGGCAGCAGTAGGGAATCTTCGGCAATGGACGGAAGTCTGACCGAGCAACGCCGCGTGAGTGAAGAAGGTTTTCGGATCGTAAAGCTCTGTTGTAAGAGAAGAACGAGTGTGAGAGTGGAAAGTTCACACTGTGACGGTATCTTACCAGAAAGGGACGGCTAACTACGTGCCAGCAGCCGCGGTAATACG</th>\n",
       "      <th>CTCTAGAGTTTGATCATGGCTCAGATTGAACGCTGGCGGCATGCCTTACACATGCAAGTCGAACGGCAGCACGGGAGCAATCCTGGTGGCGAGTGGCGAACGGGTGAGTAATACATCGGAACGTGCCCTGTAGTGGGGGATAACTAGTCGAAAGACTAGCTAATACCGCATACGACCTGAGGGTGAAAGTGGGGGACCGCAAGGCCTCATGCTATAGGAGCGGCCGATGTCTGATTAGCTAGTTGGTGGGGTAAAGGCCTACCAAGGCGACGATCAGTAGCTGGTCTGAGAGGACGATCAGCCACACTGGGACTGAGACACGGCCCAGACTCCTACGGGAGGCAGCAGTGGGGAATTTTGGACAATGGGGGCAACCCTGATCCAGCAATGCCGCGTGTGTGAAGAAGGCCTTCGGGTTGTAAAGCACTTTTGTCCGGGAAGAAATCGCACCTGATAATACCGGGTGTGGATGACGGTACCGGAAGAATAAGGACCGGCTAACTACGTGCCAGCAGCCGCGGTAATACG</th>\n",
       "      <th>AGAGTTTGATCATGGCTCAGGACGAACGCTGGCGGCGTGCCTAATACATGCAAGTAGAACGCTGAAGGAGGAGCTTGCTTCTCCGGATGAGTTGCGAACGGGTGAGTAACGCGTAGGTAACCTGCCTGGTAGCGGGGGATAACTATTGGAAACGATAGCTAATACCGCATAAGAGTAGATGTTGCATGACATTTGCTTAAAAGGTGCAATTGCATCACTACCAGATGGACCTGCGTTGTATTAGCTAGTTGGTGGGGTAACGGCTCACCAAGGCGACGATACATAGCCGACCTGAGAGGGTGATCGGCCACACTGGGACTGAGACACGGCCCAGACTCCTACGGGAGGCAGCAGTAGGGAATCTTCGGCAATGGACGGAAGTCTGACCGAGCAACGCCGCGTGAGTGAAGAAGGTTTTCGGATCGTAAAGCTCTGTTGTAAGAGAAGAACGAGTGTGAGAGTGGAAAGTTCACACTGTGACGGTATCTTACCAGAAAGGGACGGCTAACTACGTGCCAGCAGCCGCGGTAATACG</th>\n",
       "      <th>AGAGTTTGATCATGGCTCAGGACGAACGCTGGCGGCGTGCCTAATACATGCAAGTAGAACGCTGAAGGAGGAGCTTGCTTCTCTGGATGAGTTGCGAACGGGTGAGTAACGCGTAGGTAACCTGCCTGGTAGCGGGGGATAACTATTGGAAACGATAGCTAATACCGCATAACAGTAGATGTTGCATGACATTTGCTTAAAAGGTGCAATTGCATCACTACCAGATGGACCTGCGTTGTATTAGCTAGTTGGTGGGGTAACGGCTCACCAAGGCGACGATACATAGCCGACCTGAGAGGGTGATCGGCCACACTGGGACTGAGACACGGCCCAGACTCCTACGGGAGGCAGCAGTAGGGAATCTTCGGCAATGGACGGAAGTCTGACCGAGCAACGCCGCGTGAGTGAAGAAGGTTTTCGGATCGTAAAGCTCTGTTGTAAGAGAAGAACGAGTGTGAGAGTGGAAAGTTCACACTGTGACGGTATCTTACCAGAAAGGGACGGCTAACTACGTGCCAGCAGCCGCGGTAATACG</th>\n",
       "      <th>TAGAGAGTTTGATCATGGCTCAGGACGAACGCTGGCGGCGTGCTTAACACATGCAAGTCGAACGGAAAGGCCTCTTCGGAGGTACTCGAGTGGCGAACGGGTGAGTAACACGTGGGTGATCTGCCCTGCACTCTGGGATAAGCCTGGGAAACTGGGTCTAATACCGGATAGGACCATGCTTTAGTGTGTGTGGTGGAAAGTTTTTTCGGTGTAGGATGAGCCCGCGGCCTATCAGCTTGTTGGTGGGGTAATGGCCTACCAAGGCGGCGACGGGTAGCCGGACTGAGAGGTTGGTCGGCCACATTGGGACTGAGATACGGCCCAGACTCCTACGGGAGGCAGCAGTGGGGAATATTGCACAATGGGCGCAAGCCTGATGCAGCGACGCCGCGTGGGGGATGACGGCCTTCGGGTTGTAAACTCCTTTCGCCAGGGACGAAGCGTTTTGTGACGGTACCTGGAGAAGAAGCACCGGCTAACTACGTGCCAGCAGCCGCGGTAATACTA</th>\n",
       "      <th>...</th>\n",
       "      <th>AGAGTTTGATCATGGCTCAGGACGAACGCTGGCGGCGTGCTTAACACATGCAAGTCGAACGCTGAAGCTCAGCTTTTGTTGGGTGGATGAGTGGCGAACGGGTGAGTAACACGTGAGTAACCTGCCCTCTTCTTTGGGATAACGCCCGGAAACGGGTGCTAATACTGGATATTCACTGATCTTCGCATGGGGGTTGGTGGAAAGGTTTGTTCTGGTGGGGGATGGGCTCGCGGCCTATCAGCTTGTTGGTGGGGTGATGGCCTACCAAGGCTTTGACGGGTAGCCGGCCTGAGAGGGTGACCGGTCACATTGGGACTGAGATACGGCCCAGACTCCTACGGGAGGCAGCAGTGGGGAATATTGCACAATGGGCGCAAGCCTGATGCAGCGACGCCGCGTGAGGGATGGAGGCCTTCGGGTTGTGAACCTCTTTCGCCCGTGGTCAAGCCGCGACGTGGGTCGTGGTGAGGGTAGTGGGTAAAGAAGCGCCGGCTAACTACGTGCCAGCAGCCGCGGTAATACG</th>\n",
       "      <th>AGAGTTTGATCCTGGCTCAGGACGAACGCTGGCGGTGTGCTTAACACATGCAAGTCGAACGGTAAGGCCCTTTCGGGGGTACACGAGTGGCGAACGGGTGAGTAACACGTGAGTAACCTGCCCTCATCTCTGGGATAACAGTCGGAAACGGTTGCTAATACTGGATATGAGCCTGCAAGGCATCTTGTGGGTTGGAAAGATTTTTTGGTTGGGGATGGACTCGCGGCCTATCAGCTTGTTGGTGAGGTAGTGGCTCACCAAGGCTTCGACGGGTAGCCGGCCTGAGAGGGCGACCGGCCACATTGGGACTGAGATACGGCCCAAACTCCTACGGGAGGCAGCAGTGGGGAATCTTCCGCAATGGACGAAAGTCTGACGGAGCAACGCCGCGTGAGTGATGACGGCCTTCGGGTTGTAAAGCTCTGTTAATCGGGACGAAAGGCCTTCTTGCGAATAGTGAGAAGGATTGACGGTACCGGAATAGAAAGCCACGGCTAACTACGTGCCAGCAGCCGCGGTAATACG</th>\n",
       "      <th>AGAGTTTGATCCTGGCTCAGGATGAACGCTAGCTACAGGCTTAACACATGCAAGTCGAGGGGAAACGGCATTGAGTGCTTGCACTCTTTGGACGTCGACCGGCGCACGGGTGAGTAACGCGTATCCAACCTTCCCATTACTGTGGGATAACCTGCCGAAAGGCAGACTAATACCGCATAGTCTTCGATGACGGCATCAGATTTGAAGTAAAGATTTATCGGTAATGGATGGGGATGCGTCTGATTAGCTTGTTGGCGGGGTAACGGCCCACCAAGGCGACGATCAGTAGGGGTTCTGAGAGGAAGGTCCCCCACATTGGAACTGAGACACGGTCCAAACTCCTACGGGAGGCAGCAGTGAGGAATATTGGTCAATGGGCGGAAGCCTGAACCAGCCAAGTAGCGTGCAGGAGGACGGCCCTACGGGTTGTAAACTGCTTTTATGCGGGGATAAAGTGAGGGACGTGTCCCTTTTTGCAGGTACCGCATGAATAAGGACCGGCTAATTCCGTGCCAGCAGCCGCGGTAATACTA</th>\n",
       "      <th>CTCTAGAGTTTGATCATGGCTCAGGACGAACGCTGGCGGCGTGCTTAACACATGCAAGTCGAACGGTGAAGGGATCAGCTTGCTGGTTCTGGATGAGTGGCGAACGGGTGAGTAACACGTGAGTAACCTGCCCCCTTCTTCTGGATAACCGCATGAAAGTGTGGCTAATACGGGATATTCTGGGTCTGTCGCATGGCGGGCCTGGGAAAGATGCGCCTTTGGGTGTTTTTGGTGGGGGATGGGCTCGCGGCCTATCAGCTTGTTGGTGGGGTGATGGCCTACCAAGGCGGTGACGGGTAGCCGGCCTGAGAGGGTGGACGGTCACACTGGGACTGAGACACGGCCCAGACTCCTGCGGGAGGCAGCAGTGGGGGATTTTGCACAATGGGCGCAAGCCTGATGCAGCGACGCCGCGTGAGGGATGGAGGCCTTCGGGTTGTGAACCTCTGTCGCCGGTGATGTAGGCTCTGCTTTGTGGGTGGGGTTGACGGTAGCCGGGGTATGAAGTGCCGGCTAACTACGTGCCAGCAGCCGCGGTAATACG</th>\n",
       "      <th>TAGAGAGTTTGATCATGGCTCAGAGTGAACGCTGGCGGCAGGCCTAACACATGCAAGTCGAGCGGCAGCGCGGGGGCAACCCTGGCGGCGAGCGGCGGACGGGTGAGGAATGCATCGGAATCTACCTCGTTGTGGGGGATAACGTAGGGAAACTTACGCTAATACCGCATACGACCTACGGGTGAAAGTGGGGGACCTTCGGGCCTCACGCGATGAGATGAGCCGATGCCGGATTAGCTAGTTGGTGGGGTAAAGGCCCACCAAGGCGACGATCCGTAGCTGGTCTGAGAGGATGATCAGCCACACTGGAACTGAGACACGGTCCAGACTCCTACGGGAGGCAGCAGTGGGGAATATTGGACAATGGGCGCAAGCCTGATCCAGCCATACCGCGTGGGTGAAGAAGGCCTTCGGGTTGTAAAGCCCTTTTGTTGGGAAAGAAATCCTGCCGGTTAATAACCAGTAGGGATGACGGTACCCAAAGAATAAGCACCGGCTAACTTCGTGCCAGCAGCCGCGGTAATACTA</th>\n",
       "      <th>AGAGTTTGATCATGGCTCAGATTGAACGCTGGCGGCATGCCTTACACATGCAAGTCGAACGGCAGCGCGGGAGCAATCCTGGCGGCGAGTGGCGAACGGGTGAGTAATACATCGGAACATGTCCAGTAGTGGGGGATAGCCCGGCGAAAGCCGGATTAATACCGCATACGATCTACGGATGAAAGCGGGGGATCGCAAGACCTCGCGCTATTGGGGTGGCCGATGGCGGATTAGCTAGTTGGTGGGGTAAAGGCCTACCAAGGCGACGATCCGTAGCTGGTCTGAGAGGACGACCAGCCACACTGGGACTGAGACACGGCCCAGACTCCTACGGGAGGCAGCAGTGGGGAATTTTGGACAATGGGGGCAACCCTGATCCAGCAATGCCGCGTGTGTGAAGAAGGCCTTCGGGTTGTAAAGCACTTTTGTCCGGAAAGAAATCTTCTGCCCTAATACGGCGGGAGGATGACGGTACCGGAAGAATAAGCACCGGCTAACTACGTGCCAGCAGCCGCGGTAATACG</th>\n",
       "      <th>TAGAGAGTTTGATCCTGGCTCAGATTGAACGCTGGCGGCATGCCTTACACATGCAAGTCGAACGGCAGCACGGGAGCAATCCTGGTGGCGAGTGGCGAACGGGTGAGTAATACATCGGAACGTGCCCTGTAGTGGGGGATAACTAGTCGAAAGACTAGCTAATACCGCATACGACCTGAGGGTGAAAGTGGGGGACCGCAAGGCCTCATGCTATAGGAGCGGCCGATGTCTGATTAGCTAGTTGGTGGGGTAAAGGCCTACCAAGGCGACGATCAGTAGCTGGTCTGAGAGGACGATCAGCCACACTGGGACTGAGACACGGCCCAGACTCCTACGGGAGGCAGCAGTGGGGAATTTTGGACAATGGGGGCAACCCTGATCCAGCAATGCCGCGTGTGTGAAGAAGGCCTTCGGGTTGTAAAGCACTTTTGTCCGGGAAGAAATCGCACCTGATAATACCGGGTGTGGATGACGGTACCGGAAGAATAAGGACCGGCTAACTACGTGCCAGCAGCCGCGGTAATACTAAGATCGGAAGAGAGCAGCGCGGTAATACTA</th>\n",
       "      <th>CTCTAGAGTTTGATCCTGGCTCAGATTGAACGCTGGCGGCATGCCTTACACATGCAAGTCGAACGGCAGCACGGGAGCAATCCTGGTGGCGAGTGGCGAACGGGTGAGTAATACATCGGAACGTGCCCTGTAGTGGGGGATAACTAGTCGAAAGACTAGCTAATACCGCATACGACCTGAGGGTGAAAGTGGGGGACCGCAAGGCCTCATGCTATAGGAGCGGCCGATGTCTGATTAGCTAGTTGGTGGGGTAAAGGCCTACCAAGGCGACGATCAGTAGCTGGTCTGAGAGGACGATCAGCCACACTGGGACTGAGACACGGCCCAGACTCCTACGGGAGGCAGCAGTGGGGAATTTTGGACAATGGGGGCAACCCTGATCCAGCAATGCCGCGTGTGTGAAGAAGGCCTTCGGGTTGTAAAGCACTTTTGTCCGGGAAGAAATCGCACCTGATAATACCGGGTGTGGATGACGGTACCGGAAGAATAAGGACCGGCTAACTACGTGCCAGCAGCCGCGGTAATACTAAGATCGGAAGAGAGCAGCGCGGTAATACTA</th>\n",
       "      <th>TAGAGAGTTTGATCATGGCTCAGATTGAACGCTGGCGGCATGCTTTACACATGCAAGTCGGACGGCAGCGGGGTAGTGCTTGCACTACTGCCGGCGAGTGGCGAACGGGTGAGTAACATATCGGAACGTACCGAGCAGTGGGGGATAACTAATCGAAAGATTAGCTAATACCGCATATCTTCTGAGGAAGAAAGCAGGGGACCTTTGGGCCTTGCGCTGTTTGAGCGGCCGATATCTGATTAGCTGGTTGGTGGGGTAAAGGCCTACCAAGGCGACGATCAGTAGCGGGTCTGAGAGGATGATCCGCCACACTGGGACTGAGACACGGCCCAGACTCCTACGGGAGGCAGCAGTGGGGAATTTTGGACAATGGGCGCAAGCCTGATCCAGCCATGCCGCGTGTCTGAAGAAGGCCTTCGGGTTGTAAAGGACTTTTGTCAGGGAAGAAAAGGACAGGGTTAATACCCCTGTCTGATGACGGTACCTGAAGAATAAGCACCGGCTAACTACGTGCCAGCAGCCGCGGTAATACG</th>\n",
       "      <th>TAGAGAGTTTGATCATGGCTCAGGACGAACGCTGGCGGCGTGCTTAACACATGCAAGTCGAACGGAAAGGCCCACCACCTTGGTGGTGGGTACTCGAGTGGCGAACGGGTGAGTAACACGTGGGTGATCTGCCCCGCACTGTGGGATAAGCCTGGGAAACTGGGTCTAATACCACATACGACCATGGCGTAGGGGTCATGGTGGAAAGCTTTTGCGGTGTGGGATGAGCCCGCGGCCTATCAGCTTGTTGGTGGGGTAATGGCCTACCAAGGCGGCGACGGGTAGCCGGCCTGAGAGGGTGGACGGCCACATTGGGACTGAGATACGGCCCAGACTCCTACGGGAGGCAGCAGTGGGGAATATTGCACAATGGGCGCAAGCCTGATGCAGCGACGCCGCGTGGGGGATGACGGCCTTCGGGTTGTAAACTCCTTTCGCTAGGGACGAAGCTTTTTGTGACGGTACCTAGATAAGAAGCACCGGCTAACTACGTGCCAGCAGCCGCGGTAATACTA</th>\n",
       "    </tr>\n",
       "  </thead>\n",
       "  <tbody>\n",
       "    <tr>\n",
       "      <th>0</th>\n",
       "      <td>0</td>\n",
       "      <td>0</td>\n",
       "      <td>0</td>\n",
       "      <td>0</td>\n",
       "      <td>0</td>\n",
       "      <td>0</td>\n",
       "      <td>0</td>\n",
       "      <td>2379</td>\n",
       "      <td>0</td>\n",
       "      <td>0</td>\n",
       "      <td>...</td>\n",
       "      <td>0</td>\n",
       "      <td>0</td>\n",
       "      <td>0</td>\n",
       "      <td>0</td>\n",
       "      <td>0</td>\n",
       "      <td>0</td>\n",
       "      <td>0</td>\n",
       "      <td>0</td>\n",
       "      <td>0</td>\n",
       "      <td>0</td>\n",
       "    </tr>\n",
       "    <tr>\n",
       "      <th>1</th>\n",
       "      <td>0</td>\n",
       "      <td>0</td>\n",
       "      <td>0</td>\n",
       "      <td>0</td>\n",
       "      <td>0</td>\n",
       "      <td>727</td>\n",
       "      <td>0</td>\n",
       "      <td>0</td>\n",
       "      <td>193</td>\n",
       "      <td>0</td>\n",
       "      <td>...</td>\n",
       "      <td>0</td>\n",
       "      <td>0</td>\n",
       "      <td>0</td>\n",
       "      <td>0</td>\n",
       "      <td>0</td>\n",
       "      <td>0</td>\n",
       "      <td>0</td>\n",
       "      <td>0</td>\n",
       "      <td>0</td>\n",
       "      <td>0</td>\n",
       "    </tr>\n",
       "    <tr>\n",
       "      <th>2</th>\n",
       "      <td>10</td>\n",
       "      <td>0</td>\n",
       "      <td>0</td>\n",
       "      <td>0</td>\n",
       "      <td>0</td>\n",
       "      <td>4910</td>\n",
       "      <td>0</td>\n",
       "      <td>1947</td>\n",
       "      <td>0</td>\n",
       "      <td>0</td>\n",
       "      <td>...</td>\n",
       "      <td>0</td>\n",
       "      <td>0</td>\n",
       "      <td>0</td>\n",
       "      <td>0</td>\n",
       "      <td>0</td>\n",
       "      <td>0</td>\n",
       "      <td>0</td>\n",
       "      <td>0</td>\n",
       "      <td>0</td>\n",
       "      <td>0</td>\n",
       "    </tr>\n",
       "    <tr>\n",
       "      <th>3</th>\n",
       "      <td>0</td>\n",
       "      <td>0</td>\n",
       "      <td>0</td>\n",
       "      <td>0</td>\n",
       "      <td>0</td>\n",
       "      <td>0</td>\n",
       "      <td>0</td>\n",
       "      <td>484</td>\n",
       "      <td>218</td>\n",
       "      <td>0</td>\n",
       "      <td>...</td>\n",
       "      <td>0</td>\n",
       "      <td>0</td>\n",
       "      <td>0</td>\n",
       "      <td>0</td>\n",
       "      <td>0</td>\n",
       "      <td>0</td>\n",
       "      <td>0</td>\n",
       "      <td>0</td>\n",
       "      <td>0</td>\n",
       "      <td>0</td>\n",
       "    </tr>\n",
       "    <tr>\n",
       "      <th>4</th>\n",
       "      <td>0</td>\n",
       "      <td>0</td>\n",
       "      <td>0</td>\n",
       "      <td>0</td>\n",
       "      <td>0</td>\n",
       "      <td>0</td>\n",
       "      <td>0</td>\n",
       "      <td>0</td>\n",
       "      <td>403</td>\n",
       "      <td>0</td>\n",
       "      <td>...</td>\n",
       "      <td>0</td>\n",
       "      <td>0</td>\n",
       "      <td>0</td>\n",
       "      <td>0</td>\n",
       "      <td>0</td>\n",
       "      <td>0</td>\n",
       "      <td>0</td>\n",
       "      <td>0</td>\n",
       "      <td>0</td>\n",
       "      <td>0</td>\n",
       "    </tr>\n",
       "  </tbody>\n",
       "</table>\n",
       "<p>5 rows × 16576 columns</p>\n",
       "</div>"
      ],
      "text/plain": [
       "   TAGAGAGTTTGATCATGGCTCAGATTGAACGCTGGCGGCATGCCTTACACATGCAAGTCGAACGGCAGCACGGGAGCAATCCTGGTGGCGAGTGGCGAACGGGTGAGTAATACATCGGAACGTGCCCTGTAGTGGGGGATAACTAGTCGAAAGACTAGCTAATACCGCATACGACCTGAGGGTGAAAGTGGGGGACCGCAAGGCCTCATGCTATAGGAGCGGCCGATGTCTGATTAGCTAGTTGGTGGGGTAAAGGCCTACCAAGGCGACGATCAGTAGCTGGTCTGAGAGGACGATCAGCCACACTGGGACTGAGACACGGCCCAGACTCCTACGGGAGGCAGCAGTGGGGAATTTTGGACAATGGGGGCAACCCTGATCCAGCAATGCCGCGTGTGTGAAGAAGGCCTTCGGGTTGTAAAGCACTTTTGTCCGGGAAGAAATCGCACCTGATAATACCGGGTGTGGATGACGGTACCGGAAGAATAAGGACCGGCTAACTACGTGCCAGCAGCCGCGGTAATACG  \\\n",
       "0                                                  0                                                                                                                                                                                                                                                                                                                                                                                                                                                                                                 \n",
       "1                                                  0                                                                                                                                                                                                                                                                                                                                                                                                                                                                                                 \n",
       "2                                                 10                                                                                                                                                                                                                                                                                                                                                                                                                                                                                                 \n",
       "3                                                  0                                                                                                                                                                                                                                                                                                                                                                                                                                                                                                 \n",
       "4                                                  0                                                                                                                                                                                                                                                                                                                                                                                                                                                                                                 \n",
       "\n",
       "   TAGAGAGTTTGATCATGGCTCAGATTGAACGCTGGCGGCATGCCTTACACATGCAAGTCGAACGGCAGCACGGGAGCAATCCTGGTGGCGAGTGGCGAACGGGTGAGTAATACATCGGAACGTGCCCTGTAGTGGGGGATAACTAGTCGAAAGACTAGCTAATACCGCATACGACCTGAGGGTGAAAGTGGGGGACCGCAAGGCCTCATGCTATAGGAGCGGCCGATGTCTGATTAGCTAGTTGGTGGGGTAAAGGCCTACCAAGGCGACGATCAGTAGCTGGTCTGAGAGGACGATCAGCCACACTGGGACTGAGACACGGCCCAGACTCCTACGGGAGGCAGCAGTGGGGAATTTTGGACAATGGGGGCAACCCTGATCCAGCAATGCCGCGTGTGTGAAGAAGGCCTTCGGGTTGTAAAGCACTTTTGTCCGGGAAGAAATCGCACCTGATAATACCGGGTGTGGATGACGGTACCGGAAGAATAAGGACCGGCTAACTACGTGCCAGCAGCCGCGGTAATACTA  \\\n",
       "0                                                  0                                                                                                                                                                                                                                                                                                                                                                                                                                                                                                  \n",
       "1                                                  0                                                                                                                                                                                                                                                                                                                                                                                                                                                                                                  \n",
       "2                                                  0                                                                                                                                                                                                                                                                                                                                                                                                                                                                                                  \n",
       "3                                                  0                                                                                                                                                                                                                                                                                                                                                                                                                                                                                                  \n",
       "4                                                  0                                                                                                                                                                                                                                                                                                                                                                                                                                                                                                  \n",
       "\n",
       "   TAGAGAGTTTGATCCTGGCTCAGATTGAACGCTGGCGGCATGCCTTACACATGCAAGTCGAACGGCAGCACGGGAGCAATCCTGGTGGCGAGTGGCGAACGGGTGAGTAATACATCGGAACGTGCCCTGTAGTGGGGGATAACTAGTCGAAAGACTAGCTAATACCGCATACGACCTGAGGGTGAAAGTGGGGGACCGCAAGGCCTCATGCTATAGGAGCGGCCGATGTCTGATTAGCTAGTTGGTGGGGTAAAGGCCTACCAAGGCGACGATCAGTAGCTGGTCTGAGAGGACGATCAGCCACACTGGGACTGAGACACGGCCCAGACTCCTACGGGAGGCAGCAGTGGGGAATTTTGGACAATGGGGGCAACCCTGATCCAGCAATGCCGCGTGTGTGAAGAAGGCCTTCGGGTTGTAAAGCACTTTTGTCCGGGAAGAAATCGCACCTGATAATACCGGGTGTGGATGACGGTACCGGAAGAATAAGGACCGGCTAACTACGTGCCAGCAGCCGCGGTAATACG  \\\n",
       "0                                                  0                                                                                                                                                                                                                                                                                                                                                                                                                                                                                                 \n",
       "1                                                  0                                                                                                                                                                                                                                                                                                                                                                                                                                                                                                 \n",
       "2                                                  0                                                                                                                                                                                                                                                                                                                                                                                                                                                                                                 \n",
       "3                                                  0                                                                                                                                                                                                                                                                                                                                                                                                                                                                                                 \n",
       "4                                                  0                                                                                                                                                                                                                                                                                                                                                                                                                                                                                                 \n",
       "\n",
       "   TAGAGAGTTTGATCCTGGCTCAGATTGAACGCTGGCGGCATGCCTTACACATGCAAGTCGAACGGCAGCACGGGAGCAATCCTGGTGGCGAGTGGCGAACGGGTGAGTAATACATCGGAACGTGCCCTGTAGTGGGGGATAACTAGTCGAAAGACTAGCTAATACCGCATACGACCTGAGGGTGAAAGTGGGGGACCGCAAGGCCTCATGCTATAGGAGCGGCCGATGTCTGATTAGCTAGTTGGTGGGGTAAAGGCCTACCAAGGCGACGATCAGTAGCTGGTCTGAGAGGACGATCAGCCACACTGGGACTGAGACACGGCCCAGACTCCTACGGGAGGCAGCAGTGGGGAATTTTGGACAATGGGGGCAACCCTGATCCAGCAATGCCGCGTGTGTGAAGAAGGCCTTCGGGTTGTAAAGCACTTTTGTCCGGGAAGAAATCGCACCTGATAATACCGGGTGTGGATGACGGTACCGGAAGAATAAGGACCGGCTAACTACGTGCCAGCAGCCGCGGTAATACTA  \\\n",
       "0                                                  0                                                                                                                                                                                                                                                                                                                                                                                                                                                                                                  \n",
       "1                                                  0                                                                                                                                                                                                                                                                                                                                                                                                                                                                                                  \n",
       "2                                                  0                                                                                                                                                                                                                                                                                                                                                                                                                                                                                                  \n",
       "3                                                  0                                                                                                                                                                                                                                                                                                                                                                                                                                                                                                  \n",
       "4                                                  0                                                                                                                                                                                                                                                                                                                                                                                                                                                                                                  \n",
       "\n",
       "   TAGAGAGTTTGATCATGGCTCAGGACGAACGCTGGCGGCGTGCTTAACACATGCAAGTCGAACGGAAAGGCCTTTTCGGAGGTACTCGAGTGGCGAACGGGTGAGTAACACGTGGGTGATCTGCCCTGCACTCTGGGATAAGCCTGGGAAACTGGGTCTAATACCGGATAGGACCGCACTTTAGTGTGTGTGGTGGAAAGTTTTTTCGGTGTAGGATGAGCCCGCGGCCTATCAGCTTGTTGGTGGGGTAATGGCCTACCAAGGCGGCGACGGGTAGCCGGACTGAGAGGTTGGTCGGCCACATTGGGACTGAGATACGGCCCAGACTCCTACGGGAGGCAGCAGTGGGGAATATTGCACAATGGGCGCAAGCCTGATGCAGCGACGCCGCGTGGGGGATGACGGCCTTCGGGTTGTAAACTCCTTTCGCCAGGGACGAAGCGTTTTGTGACGGTACCTGGAGAAGAAGCACCGGCTAACTACGTGCCAGCAGCCGCGGTAATACTA  \\\n",
       "0                                                  0                                                                                                                                                                                                                                                                                                                                                                                                                                                                             \n",
       "1                                                  0                                                                                                                                                                                                                                                                                                                                                                                                                                                                             \n",
       "2                                                  0                                                                                                                                                                                                                                                                                                                                                                                                                                                                             \n",
       "3                                                  0                                                                                                                                                                                                                                                                                                                                                                                                                                                                             \n",
       "4                                                  0                                                                                                                                                                                                                                                                                                                                                                                                                                                                             \n",
       "\n",
       "   AGAGTTTGATCATGGCTCAGGACGAACGCTGGCGGCGTGCCTAATACATGCAAGTAGAACGCTGAAGGAGGAGCTTGCTTCTCTGGATGAGTTGCGAACGGGTGAGTAACGCGTAGGTAACCTGCCTGGTAGCGGGGGATAACTATTGGAAACGATAGCTAATACCGCATAATAGTAGATGTTGCATGACATTTGCTTAAAAGGTGCAATTGCATCACTACCAGATGGACCTGCGTTGTATTAGCTAGTTGGTGGGGTAACGGCTCACCAAGGCGACGATACATAGCCGACCTGAGAGGGTGATCGGCCACACTGGGACTGAGACACGGCCCAGACTCCTACGGGAGGCAGCAGTAGGGAATCTTCGGCAATGGACGGAAGTCTGACCGAGCAACGCCGCGTGAGTGAAGAAGGTTTTCGGATCGTAAAGCTCTGTTGTAAGAGAAGAACGAGTGTGAGAGTGGAAAGTTCACACTGTGACGGTATCTTACCAGAAAGGGACGGCTAACTACGTGCCAGCAGCCGCGGTAATACG  \\\n",
       "0                                                  0                                                                                                                                                                                                                                                                                                                                                                                                                                                                                                         \n",
       "1                                                727                                                                                                                                                                                                                                                                                                                                                                                                                                                                                                         \n",
       "2                                               4910                                                                                                                                                                                                                                                                                                                                                                                                                                                                                                         \n",
       "3                                                  0                                                                                                                                                                                                                                                                                                                                                                                                                                                                                                         \n",
       "4                                                  0                                                                                                                                                                                                                                                                                                                                                                                                                                                                                                         \n",
       "\n",
       "   CTCTAGAGTTTGATCATGGCTCAGATTGAACGCTGGCGGCATGCCTTACACATGCAAGTCGAACGGCAGCACGGGAGCAATCCTGGTGGCGAGTGGCGAACGGGTGAGTAATACATCGGAACGTGCCCTGTAGTGGGGGATAACTAGTCGAAAGACTAGCTAATACCGCATACGACCTGAGGGTGAAAGTGGGGGACCGCAAGGCCTCATGCTATAGGAGCGGCCGATGTCTGATTAGCTAGTTGGTGGGGTAAAGGCCTACCAAGGCGACGATCAGTAGCTGGTCTGAGAGGACGATCAGCCACACTGGGACTGAGACACGGCCCAGACTCCTACGGGAGGCAGCAGTGGGGAATTTTGGACAATGGGGGCAACCCTGATCCAGCAATGCCGCGTGTGTGAAGAAGGCCTTCGGGTTGTAAAGCACTTTTGTCCGGGAAGAAATCGCACCTGATAATACCGGGTGTGGATGACGGTACCGGAAGAATAAGGACCGGCTAACTACGTGCCAGCAGCCGCGGTAATACG  \\\n",
       "0                                                  0                                                                                                                                                                                                                                                                                                                                                                                                                                                                                                  \n",
       "1                                                  0                                                                                                                                                                                                                                                                                                                                                                                                                                                                                                  \n",
       "2                                                  0                                                                                                                                                                                                                                                                                                                                                                                                                                                                                                  \n",
       "3                                                  0                                                                                                                                                                                                                                                                                                                                                                                                                                                                                                  \n",
       "4                                                  0                                                                                                                                                                                                                                                                                                                                                                                                                                                                                                  \n",
       "\n",
       "   AGAGTTTGATCATGGCTCAGGACGAACGCTGGCGGCGTGCCTAATACATGCAAGTAGAACGCTGAAGGAGGAGCTTGCTTCTCCGGATGAGTTGCGAACGGGTGAGTAACGCGTAGGTAACCTGCCTGGTAGCGGGGGATAACTATTGGAAACGATAGCTAATACCGCATAAGAGTAGATGTTGCATGACATTTGCTTAAAAGGTGCAATTGCATCACTACCAGATGGACCTGCGTTGTATTAGCTAGTTGGTGGGGTAACGGCTCACCAAGGCGACGATACATAGCCGACCTGAGAGGGTGATCGGCCACACTGGGACTGAGACACGGCCCAGACTCCTACGGGAGGCAGCAGTAGGGAATCTTCGGCAATGGACGGAAGTCTGACCGAGCAACGCCGCGTGAGTGAAGAAGGTTTTCGGATCGTAAAGCTCTGTTGTAAGAGAAGAACGAGTGTGAGAGTGGAAAGTTCACACTGTGACGGTATCTTACCAGAAAGGGACGGCTAACTACGTGCCAGCAGCCGCGGTAATACG  \\\n",
       "0                                               2379                                                                                                                                                                                                                                                                                                                                                                                                                                                                                                         \n",
       "1                                                  0                                                                                                                                                                                                                                                                                                                                                                                                                                                                                                         \n",
       "2                                               1947                                                                                                                                                                                                                                                                                                                                                                                                                                                                                                         \n",
       "3                                                484                                                                                                                                                                                                                                                                                                                                                                                                                                                                                                         \n",
       "4                                                  0                                                                                                                                                                                                                                                                                                                                                                                                                                                                                                         \n",
       "\n",
       "   AGAGTTTGATCATGGCTCAGGACGAACGCTGGCGGCGTGCCTAATACATGCAAGTAGAACGCTGAAGGAGGAGCTTGCTTCTCTGGATGAGTTGCGAACGGGTGAGTAACGCGTAGGTAACCTGCCTGGTAGCGGGGGATAACTATTGGAAACGATAGCTAATACCGCATAACAGTAGATGTTGCATGACATTTGCTTAAAAGGTGCAATTGCATCACTACCAGATGGACCTGCGTTGTATTAGCTAGTTGGTGGGGTAACGGCTCACCAAGGCGACGATACATAGCCGACCTGAGAGGGTGATCGGCCACACTGGGACTGAGACACGGCCCAGACTCCTACGGGAGGCAGCAGTAGGGAATCTTCGGCAATGGACGGAAGTCTGACCGAGCAACGCCGCGTGAGTGAAGAAGGTTTTCGGATCGTAAAGCTCTGTTGTAAGAGAAGAACGAGTGTGAGAGTGGAAAGTTCACACTGTGACGGTATCTTACCAGAAAGGGACGGCTAACTACGTGCCAGCAGCCGCGGTAATACG  \\\n",
       "0                                                  0                                                                                                                                                                                                                                                                                                                                                                                                                                                                                                         \n",
       "1                                                193                                                                                                                                                                                                                                                                                                                                                                                                                                                                                                         \n",
       "2                                                  0                                                                                                                                                                                                                                                                                                                                                                                                                                                                                                         \n",
       "3                                                218                                                                                                                                                                                                                                                                                                                                                                                                                                                                                                         \n",
       "4                                                403                                                                                                                                                                                                                                                                                                                                                                                                                                                                                                         \n",
       "\n",
       "   TAGAGAGTTTGATCATGGCTCAGGACGAACGCTGGCGGCGTGCTTAACACATGCAAGTCGAACGGAAAGGCCTCTTCGGAGGTACTCGAGTGGCGAACGGGTGAGTAACACGTGGGTGATCTGCCCTGCACTCTGGGATAAGCCTGGGAAACTGGGTCTAATACCGGATAGGACCATGCTTTAGTGTGTGTGGTGGAAAGTTTTTTCGGTGTAGGATGAGCCCGCGGCCTATCAGCTTGTTGGTGGGGTAATGGCCTACCAAGGCGGCGACGGGTAGCCGGACTGAGAGGTTGGTCGGCCACATTGGGACTGAGATACGGCCCAGACTCCTACGGGAGGCAGCAGTGGGGAATATTGCACAATGGGCGCAAGCCTGATGCAGCGACGCCGCGTGGGGGATGACGGCCTTCGGGTTGTAAACTCCTTTCGCCAGGGACGAAGCGTTTTGTGACGGTACCTGGAGAAGAAGCACCGGCTAACTACGTGCCAGCAGCCGCGGTAATACTA  \\\n",
       "0                                                  0                                                                                                                                                                                                                                                                                                                                                                                                                                                                             \n",
       "1                                                  0                                                                                                                                                                                                                                                                                                                                                                                                                                                                             \n",
       "2                                                  0                                                                                                                                                                                                                                                                                                                                                                                                                                                                             \n",
       "3                                                  0                                                                                                                                                                                                                                                                                                                                                                                                                                                                             \n",
       "4                                                  0                                                                                                                                                                                                                                                                                                                                                                                                                                                                             \n",
       "\n",
       "                                                                                                                                                                                                                                                                  ...                                                                                                                                                                                                                                                                   \\\n",
       "0                                                                                                                                                                                                                                                                 ...                                                                                                                                                                                                                                                                    \n",
       "1                                                                                                                                                                                                                                                                 ...                                                                                                                                                                                                                                                                    \n",
       "2                                                                                                                                                                                                                                                                 ...                                                                                                                                                                                                                                                                    \n",
       "3                                                                                                                                                                                                                                                                 ...                                                                                                                                                                                                                                                                    \n",
       "4                                                                                                                                                                                                                                                                 ...                                                                                                                                                                                                                                                                    \n",
       "\n",
       "   AGAGTTTGATCATGGCTCAGGACGAACGCTGGCGGCGTGCTTAACACATGCAAGTCGAACGCTGAAGCTCAGCTTTTGTTGGGTGGATGAGTGGCGAACGGGTGAGTAACACGTGAGTAACCTGCCCTCTTCTTTGGGATAACGCCCGGAAACGGGTGCTAATACTGGATATTCACTGATCTTCGCATGGGGGTTGGTGGAAAGGTTTGTTCTGGTGGGGGATGGGCTCGCGGCCTATCAGCTTGTTGGTGGGGTGATGGCCTACCAAGGCTTTGACGGGTAGCCGGCCTGAGAGGGTGACCGGTCACATTGGGACTGAGATACGGCCCAGACTCCTACGGGAGGCAGCAGTGGGGAATATTGCACAATGGGCGCAAGCCTGATGCAGCGACGCCGCGTGAGGGATGGAGGCCTTCGGGTTGTGAACCTCTTTCGCCCGTGGTCAAGCCGCGACGTGGGTCGTGGTGAGGGTAGTGGGTAAAGAAGCGCCGGCTAACTACGTGCCAGCAGCCGCGGTAATACG  \\\n",
       "0                                                  0                                                                                                                                                                                                                                                                                                                                                                                                                                                                                             \n",
       "1                                                  0                                                                                                                                                                                                                                                                                                                                                                                                                                                                                             \n",
       "2                                                  0                                                                                                                                                                                                                                                                                                                                                                                                                                                                                             \n",
       "3                                                  0                                                                                                                                                                                                                                                                                                                                                                                                                                                                                             \n",
       "4                                                  0                                                                                                                                                                                                                                                                                                                                                                                                                                                                                             \n",
       "\n",
       "   AGAGTTTGATCCTGGCTCAGGACGAACGCTGGCGGTGTGCTTAACACATGCAAGTCGAACGGTAAGGCCCTTTCGGGGGTACACGAGTGGCGAACGGGTGAGTAACACGTGAGTAACCTGCCCTCATCTCTGGGATAACAGTCGGAAACGGTTGCTAATACTGGATATGAGCCTGCAAGGCATCTTGTGGGTTGGAAAGATTTTTTGGTTGGGGATGGACTCGCGGCCTATCAGCTTGTTGGTGAGGTAGTGGCTCACCAAGGCTTCGACGGGTAGCCGGCCTGAGAGGGCGACCGGCCACATTGGGACTGAGATACGGCCCAAACTCCTACGGGAGGCAGCAGTGGGGAATCTTCCGCAATGGACGAAAGTCTGACGGAGCAACGCCGCGTGAGTGATGACGGCCTTCGGGTTGTAAAGCTCTGTTAATCGGGACGAAAGGCCTTCTTGCGAATAGTGAGAAGGATTGACGGTACCGGAATAGAAAGCCACGGCTAACTACGTGCCAGCAGCCGCGGTAATACG  \\\n",
       "0                                                  0                                                                                                                                                                                                                                                                                                                                                                                                                                                                                               \n",
       "1                                                  0                                                                                                                                                                                                                                                                                                                                                                                                                                                                                               \n",
       "2                                                  0                                                                                                                                                                                                                                                                                                                                                                                                                                                                                               \n",
       "3                                                  0                                                                                                                                                                                                                                                                                                                                                                                                                                                                                               \n",
       "4                                                  0                                                                                                                                                                                                                                                                                                                                                                                                                                                                                               \n",
       "\n",
       "   AGAGTTTGATCCTGGCTCAGGATGAACGCTAGCTACAGGCTTAACACATGCAAGTCGAGGGGAAACGGCATTGAGTGCTTGCACTCTTTGGACGTCGACCGGCGCACGGGTGAGTAACGCGTATCCAACCTTCCCATTACTGTGGGATAACCTGCCGAAAGGCAGACTAATACCGCATAGTCTTCGATGACGGCATCAGATTTGAAGTAAAGATTTATCGGTAATGGATGGGGATGCGTCTGATTAGCTTGTTGGCGGGGTAACGGCCCACCAAGGCGACGATCAGTAGGGGTTCTGAGAGGAAGGTCCCCCACATTGGAACTGAGACACGGTCCAAACTCCTACGGGAGGCAGCAGTGAGGAATATTGGTCAATGGGCGGAAGCCTGAACCAGCCAAGTAGCGTGCAGGAGGACGGCCCTACGGGTTGTAAACTGCTTTTATGCGGGGATAAAGTGAGGGACGTGTCCCTTTTTGCAGGTACCGCATGAATAAGGACCGGCTAATTCCGTGCCAGCAGCCGCGGTAATACTA  \\\n",
       "0                                                  0                                                                                                                                                                                                                                                                                                                                                                                                                                                                                                       \n",
       "1                                                  0                                                                                                                                                                                                                                                                                                                                                                                                                                                                                                       \n",
       "2                                                  0                                                                                                                                                                                                                                                                                                                                                                                                                                                                                                       \n",
       "3                                                  0                                                                                                                                                                                                                                                                                                                                                                                                                                                                                                       \n",
       "4                                                  0                                                                                                                                                                                                                                                                                                                                                                                                                                                                                                       \n",
       "\n",
       "   CTCTAGAGTTTGATCATGGCTCAGGACGAACGCTGGCGGCGTGCTTAACACATGCAAGTCGAACGGTGAAGGGATCAGCTTGCTGGTTCTGGATGAGTGGCGAACGGGTGAGTAACACGTGAGTAACCTGCCCCCTTCTTCTGGATAACCGCATGAAAGTGTGGCTAATACGGGATATTCTGGGTCTGTCGCATGGCGGGCCTGGGAAAGATGCGCCTTTGGGTGTTTTTGGTGGGGGATGGGCTCGCGGCCTATCAGCTTGTTGGTGGGGTGATGGCCTACCAAGGCGGTGACGGGTAGCCGGCCTGAGAGGGTGGACGGTCACACTGGGACTGAGACACGGCCCAGACTCCTGCGGGAGGCAGCAGTGGGGGATTTTGCACAATGGGCGCAAGCCTGATGCAGCGACGCCGCGTGAGGGATGGAGGCCTTCGGGTTGTGAACCTCTGTCGCCGGTGATGTAGGCTCTGCTTTGTGGGTGGGGTTGACGGTAGCCGGGGTATGAAGTGCCGGCTAACTACGTGCCAGCAGCCGCGGTAATACG  \\\n",
       "0                                                  0                                                                                                                                                                                                                                                                                                                                                                                                                                                                                                                  \n",
       "1                                                  0                                                                                                                                                                                                                                                                                                                                                                                                                                                                                                                  \n",
       "2                                                  0                                                                                                                                                                                                                                                                                                                                                                                                                                                                                                                  \n",
       "3                                                  0                                                                                                                                                                                                                                                                                                                                                                                                                                                                                                                  \n",
       "4                                                  0                                                                                                                                                                                                                                                                                                                                                                                                                                                                                                                  \n",
       "\n",
       "   TAGAGAGTTTGATCATGGCTCAGAGTGAACGCTGGCGGCAGGCCTAACACATGCAAGTCGAGCGGCAGCGCGGGGGCAACCCTGGCGGCGAGCGGCGGACGGGTGAGGAATGCATCGGAATCTACCTCGTTGTGGGGGATAACGTAGGGAAACTTACGCTAATACCGCATACGACCTACGGGTGAAAGTGGGGGACCTTCGGGCCTCACGCGATGAGATGAGCCGATGCCGGATTAGCTAGTTGGTGGGGTAAAGGCCCACCAAGGCGACGATCCGTAGCTGGTCTGAGAGGATGATCAGCCACACTGGAACTGAGACACGGTCCAGACTCCTACGGGAGGCAGCAGTGGGGAATATTGGACAATGGGCGCAAGCCTGATCCAGCCATACCGCGTGGGTGAAGAAGGCCTTCGGGTTGTAAAGCCCTTTTGTTGGGAAAGAAATCCTGCCGGTTAATAACCAGTAGGGATGACGGTACCCAAAGAATAAGCACCGGCTAACTTCGTGCCAGCAGCCGCGGTAATACTA  \\\n",
       "0                                                  0                                                                                                                                                                                                                                                                                                                                                                                                                                                                                                  \n",
       "1                                                  0                                                                                                                                                                                                                                                                                                                                                                                                                                                                                                  \n",
       "2                                                  0                                                                                                                                                                                                                                                                                                                                                                                                                                                                                                  \n",
       "3                                                  0                                                                                                                                                                                                                                                                                                                                                                                                                                                                                                  \n",
       "4                                                  0                                                                                                                                                                                                                                                                                                                                                                                                                                                                                                  \n",
       "\n",
       "   AGAGTTTGATCATGGCTCAGATTGAACGCTGGCGGCATGCCTTACACATGCAAGTCGAACGGCAGCGCGGGAGCAATCCTGGCGGCGAGTGGCGAACGGGTGAGTAATACATCGGAACATGTCCAGTAGTGGGGGATAGCCCGGCGAAAGCCGGATTAATACCGCATACGATCTACGGATGAAAGCGGGGGATCGCAAGACCTCGCGCTATTGGGGTGGCCGATGGCGGATTAGCTAGTTGGTGGGGTAAAGGCCTACCAAGGCGACGATCCGTAGCTGGTCTGAGAGGACGACCAGCCACACTGGGACTGAGACACGGCCCAGACTCCTACGGGAGGCAGCAGTGGGGAATTTTGGACAATGGGGGCAACCCTGATCCAGCAATGCCGCGTGTGTGAAGAAGGCCTTCGGGTTGTAAAGCACTTTTGTCCGGAAAGAAATCTTCTGCCCTAATACGGCGGGAGGATGACGGTACCGGAAGAATAAGCACCGGCTAACTACGTGCCAGCAGCCGCGGTAATACG  \\\n",
       "0                                                  0                                                                                                                                                                                                                                                                                                                                                                                                                                                                                              \n",
       "1                                                  0                                                                                                                                                                                                                                                                                                                                                                                                                                                                                              \n",
       "2                                                  0                                                                                                                                                                                                                                                                                                                                                                                                                                                                                              \n",
       "3                                                  0                                                                                                                                                                                                                                                                                                                                                                                                                                                                                              \n",
       "4                                                  0                                                                                                                                                                                                                                                                                                                                                                                                                                                                                              \n",
       "\n",
       "   TAGAGAGTTTGATCCTGGCTCAGATTGAACGCTGGCGGCATGCCTTACACATGCAAGTCGAACGGCAGCACGGGAGCAATCCTGGTGGCGAGTGGCGAACGGGTGAGTAATACATCGGAACGTGCCCTGTAGTGGGGGATAACTAGTCGAAAGACTAGCTAATACCGCATACGACCTGAGGGTGAAAGTGGGGGACCGCAAGGCCTCATGCTATAGGAGCGGCCGATGTCTGATTAGCTAGTTGGTGGGGTAAAGGCCTACCAAGGCGACGATCAGTAGCTGGTCTGAGAGGACGATCAGCCACACTGGGACTGAGACACGGCCCAGACTCCTACGGGAGGCAGCAGTGGGGAATTTTGGACAATGGGGGCAACCCTGATCCAGCAATGCCGCGTGTGTGAAGAAGGCCTTCGGGTTGTAAAGCACTTTTGTCCGGGAAGAAATCGCACCTGATAATACCGGGTGTGGATGACGGTACCGGAAGAATAAGGACCGGCTAACTACGTGCCAGCAGCCGCGGTAATACTAAGATCGGAAGAGAGCAGCGCGGTAATACTA  \\\n",
       "0                                                  0                                                                                                                                                                                                                                                                                                                                                                                                                                                                                                                                \n",
       "1                                                  0                                                                                                                                                                                                                                                                                                                                                                                                                                                                                                                                \n",
       "2                                                  0                                                                                                                                                                                                                                                                                                                                                                                                                                                                                                                                \n",
       "3                                                  0                                                                                                                                                                                                                                                                                                                                                                                                                                                                                                                                \n",
       "4                                                  0                                                                                                                                                                                                                                                                                                                                                                                                                                                                                                                                \n",
       "\n",
       "   CTCTAGAGTTTGATCCTGGCTCAGATTGAACGCTGGCGGCATGCCTTACACATGCAAGTCGAACGGCAGCACGGGAGCAATCCTGGTGGCGAGTGGCGAACGGGTGAGTAATACATCGGAACGTGCCCTGTAGTGGGGGATAACTAGTCGAAAGACTAGCTAATACCGCATACGACCTGAGGGTGAAAGTGGGGGACCGCAAGGCCTCATGCTATAGGAGCGGCCGATGTCTGATTAGCTAGTTGGTGGGGTAAAGGCCTACCAAGGCGACGATCAGTAGCTGGTCTGAGAGGACGATCAGCCACACTGGGACTGAGACACGGCCCAGACTCCTACGGGAGGCAGCAGTGGGGAATTTTGGACAATGGGGGCAACCCTGATCCAGCAATGCCGCGTGTGTGAAGAAGGCCTTCGGGTTGTAAAGCACTTTTGTCCGGGAAGAAATCGCACCTGATAATACCGGGTGTGGATGACGGTACCGGAAGAATAAGGACCGGCTAACTACGTGCCAGCAGCCGCGGTAATACTAAGATCGGAAGAGAGCAGCGCGGTAATACTA  \\\n",
       "0                                                  0                                                                                                                                                                                                                                                                                                                                                                                                                                                                                                                                 \n",
       "1                                                  0                                                                                                                                                                                                                                                                                                                                                                                                                                                                                                                                 \n",
       "2                                                  0                                                                                                                                                                                                                                                                                                                                                                                                                                                                                                                                 \n",
       "3                                                  0                                                                                                                                                                                                                                                                                                                                                                                                                                                                                                                                 \n",
       "4                                                  0                                                                                                                                                                                                                                                                                                                                                                                                                                                                                                                                 \n",
       "\n",
       "   TAGAGAGTTTGATCATGGCTCAGATTGAACGCTGGCGGCATGCTTTACACATGCAAGTCGGACGGCAGCGGGGTAGTGCTTGCACTACTGCCGGCGAGTGGCGAACGGGTGAGTAACATATCGGAACGTACCGAGCAGTGGGGGATAACTAATCGAAAGATTAGCTAATACCGCATATCTTCTGAGGAAGAAAGCAGGGGACCTTTGGGCCTTGCGCTGTTTGAGCGGCCGATATCTGATTAGCTGGTTGGTGGGGTAAAGGCCTACCAAGGCGACGATCAGTAGCGGGTCTGAGAGGATGATCCGCCACACTGGGACTGAGACACGGCCCAGACTCCTACGGGAGGCAGCAGTGGGGAATTTTGGACAATGGGCGCAAGCCTGATCCAGCCATGCCGCGTGTCTGAAGAAGGCCTTCGGGTTGTAAAGGACTTTTGTCAGGGAAGAAAAGGACAGGGTTAATACCCCTGTCTGATGACGGTACCTGAAGAATAAGCACCGGCTAACTACGTGCCAGCAGCCGCGGTAATACG  \\\n",
       "0                                                  0                                                                                                                                                                                                                                                                                                                                                                                                                                                                                                       \n",
       "1                                                  0                                                                                                                                                                                                                                                                                                                                                                                                                                                                                                       \n",
       "2                                                  0                                                                                                                                                                                                                                                                                                                                                                                                                                                                                                       \n",
       "3                                                  0                                                                                                                                                                                                                                                                                                                                                                                                                                                                                                       \n",
       "4                                                  0                                                                                                                                                                                                                                                                                                                                                                                                                                                                                                       \n",
       "\n",
       "   TAGAGAGTTTGATCATGGCTCAGGACGAACGCTGGCGGCGTGCTTAACACATGCAAGTCGAACGGAAAGGCCCACCACCTTGGTGGTGGGTACTCGAGTGGCGAACGGGTGAGTAACACGTGGGTGATCTGCCCCGCACTGTGGGATAAGCCTGGGAAACTGGGTCTAATACCACATACGACCATGGCGTAGGGGTCATGGTGGAAAGCTTTTGCGGTGTGGGATGAGCCCGCGGCCTATCAGCTTGTTGGTGGGGTAATGGCCTACCAAGGCGGCGACGGGTAGCCGGCCTGAGAGGGTGGACGGCCACATTGGGACTGAGATACGGCCCAGACTCCTACGGGAGGCAGCAGTGGGGAATATTGCACAATGGGCGCAAGCCTGATGCAGCGACGCCGCGTGGGGGATGACGGCCTTCGGGTTGTAAACTCCTTTCGCTAGGGACGAAGCTTTTTGTGACGGTACCTAGATAAGAAGCACCGGCTAACTACGTGCCAGCAGCCGCGGTAATACTA  \n",
       "0                                                  0                                                                                                                                                                                                                                                                                                                                                                                                                                                                                    \n",
       "1                                                  0                                                                                                                                                                                                                                                                                                                                                                                                                                                                                    \n",
       "2                                                  0                                                                                                                                                                                                                                                                                                                                                                                                                                                                                    \n",
       "3                                                  0                                                                                                                                                                                                                                                                                                                                                                                                                                                                                    \n",
       "4                                                  0                                                                                                                                                                                                                                                                                                                                                                                                                                                                                    \n",
       "\n",
       "[5 rows x 16576 columns]"
      ]
     },
     "execution_count": 10,
     "metadata": {},
     "output_type": "execute_result"
    }
   ],
   "source": [
    "otu_table.head()"
   ]
  },
  {
   "cell_type": "code",
   "execution_count": 11,
   "metadata": {},
   "outputs": [
    {
     "data": {
      "text/plain": [
       "(284, 16576)"
      ]
     },
     "execution_count": 11,
     "metadata": {},
     "output_type": "execute_result"
    }
   ],
   "source": [
    "otu_table.shape"
   ]
  },
  {
   "cell_type": "markdown",
   "metadata": {},
   "source": [
    "### Taxonomy Table"
   ]
  },
  {
   "cell_type": "code",
   "execution_count": 12,
   "metadata": {},
   "outputs": [],
   "source": [
    "tax_table = pd.read_csv('parkinsons_tax_table.tsv', sep='\\t')"
   ]
  },
  {
   "cell_type": "code",
   "execution_count": 13,
   "metadata": {},
   "outputs": [
    {
     "data": {
      "text/html": [
       "<div>\n",
       "<style scoped>\n",
       "    .dataframe tbody tr th:only-of-type {\n",
       "        vertical-align: middle;\n",
       "    }\n",
       "\n",
       "    .dataframe tbody tr th {\n",
       "        vertical-align: top;\n",
       "    }\n",
       "\n",
       "    .dataframe thead th {\n",
       "        text-align: right;\n",
       "    }\n",
       "</style>\n",
       "<table border=\"1\" class=\"dataframe\">\n",
       "  <thead>\n",
       "    <tr style=\"text-align: right;\">\n",
       "      <th></th>\n",
       "      <th>Kingdom</th>\n",
       "      <th>Phylum</th>\n",
       "      <th>Class</th>\n",
       "      <th>Order</th>\n",
       "      <th>Family</th>\n",
       "      <th>Genus</th>\n",
       "      <th>Species</th>\n",
       "    </tr>\n",
       "  </thead>\n",
       "  <tbody>\n",
       "    <tr>\n",
       "      <th>0</th>\n",
       "      <td>Bacteria</td>\n",
       "      <td>Proteobacteria</td>\n",
       "      <td>Gammaproteobacteria</td>\n",
       "      <td>Betaproteobacteriales</td>\n",
       "      <td>Burkholderiaceae</td>\n",
       "      <td>Ralstonia</td>\n",
       "      <td>NaN</td>\n",
       "    </tr>\n",
       "    <tr>\n",
       "      <th>1</th>\n",
       "      <td>Bacteria</td>\n",
       "      <td>Proteobacteria</td>\n",
       "      <td>Gammaproteobacteria</td>\n",
       "      <td>Betaproteobacteriales</td>\n",
       "      <td>Burkholderiaceae</td>\n",
       "      <td>Ralstonia</td>\n",
       "      <td>NaN</td>\n",
       "    </tr>\n",
       "    <tr>\n",
       "      <th>2</th>\n",
       "      <td>Bacteria</td>\n",
       "      <td>Proteobacteria</td>\n",
       "      <td>Gammaproteobacteria</td>\n",
       "      <td>Betaproteobacteriales</td>\n",
       "      <td>Burkholderiaceae</td>\n",
       "      <td>Ralstonia</td>\n",
       "      <td>NaN</td>\n",
       "    </tr>\n",
       "    <tr>\n",
       "      <th>3</th>\n",
       "      <td>Bacteria</td>\n",
       "      <td>Proteobacteria</td>\n",
       "      <td>Gammaproteobacteria</td>\n",
       "      <td>Betaproteobacteriales</td>\n",
       "      <td>Burkholderiaceae</td>\n",
       "      <td>Ralstonia</td>\n",
       "      <td>NaN</td>\n",
       "    </tr>\n",
       "    <tr>\n",
       "      <th>4</th>\n",
       "      <td>Bacteria</td>\n",
       "      <td>Actinobacteria</td>\n",
       "      <td>Actinobacteria</td>\n",
       "      <td>Corynebacteriales</td>\n",
       "      <td>Corynebacteriaceae</td>\n",
       "      <td>Corynebacterium_1</td>\n",
       "      <td>NaN</td>\n",
       "    </tr>\n",
       "  </tbody>\n",
       "</table>\n",
       "</div>"
      ],
      "text/plain": [
       "    Kingdom          Phylum                Class                  Order  \\\n",
       "0  Bacteria  Proteobacteria  Gammaproteobacteria  Betaproteobacteriales   \n",
       "1  Bacteria  Proteobacteria  Gammaproteobacteria  Betaproteobacteriales   \n",
       "2  Bacteria  Proteobacteria  Gammaproteobacteria  Betaproteobacteriales   \n",
       "3  Bacteria  Proteobacteria  Gammaproteobacteria  Betaproteobacteriales   \n",
       "4  Bacteria  Actinobacteria       Actinobacteria      Corynebacteriales   \n",
       "\n",
       "               Family              Genus Species  \n",
       "0    Burkholderiaceae          Ralstonia     NaN  \n",
       "1    Burkholderiaceae          Ralstonia     NaN  \n",
       "2    Burkholderiaceae          Ralstonia     NaN  \n",
       "3    Burkholderiaceae          Ralstonia     NaN  \n",
       "4  Corynebacteriaceae  Corynebacterium_1     NaN  "
      ]
     },
     "execution_count": 13,
     "metadata": {},
     "output_type": "execute_result"
    }
   ],
   "source": [
    "tax_table.head()"
   ]
  },
  {
   "cell_type": "code",
   "execution_count": 14,
   "metadata": {},
   "outputs": [
    {
     "data": {
      "text/plain": [
       "(16576, 7)"
      ]
     },
     "execution_count": 14,
     "metadata": {},
     "output_type": "execute_result"
    }
   ],
   "source": [
    "tax_table.shape"
   ]
  },
  {
   "cell_type": "code",
   "execution_count": 15,
   "metadata": {},
   "outputs": [
    {
     "data": {
      "text/html": [
       "<div>\n",
       "<style scoped>\n",
       "    .dataframe tbody tr th:only-of-type {\n",
       "        vertical-align: middle;\n",
       "    }\n",
       "\n",
       "    .dataframe tbody tr th {\n",
       "        vertical-align: top;\n",
       "    }\n",
       "\n",
       "    .dataframe thead th {\n",
       "        text-align: right;\n",
       "    }\n",
       "</style>\n",
       "<table border=\"1\" class=\"dataframe\">\n",
       "  <thead>\n",
       "    <tr style=\"text-align: right;\">\n",
       "      <th></th>\n",
       "      <th>Kingdom</th>\n",
       "      <th>Phylum</th>\n",
       "      <th>Class</th>\n",
       "      <th>Order</th>\n",
       "      <th>Family</th>\n",
       "      <th>Genus</th>\n",
       "      <th>Species</th>\n",
       "      <th>otu_index</th>\n",
       "    </tr>\n",
       "  </thead>\n",
       "  <tbody>\n",
       "    <tr>\n",
       "      <th>0</th>\n",
       "      <td>Bacteria</td>\n",
       "      <td>Proteobacteria</td>\n",
       "      <td>Gammaproteobacteria</td>\n",
       "      <td>Betaproteobacteriales</td>\n",
       "      <td>Burkholderiaceae</td>\n",
       "      <td>Ralstonia</td>\n",
       "      <td>NaN</td>\n",
       "      <td>1</td>\n",
       "    </tr>\n",
       "    <tr>\n",
       "      <th>1</th>\n",
       "      <td>Bacteria</td>\n",
       "      <td>Proteobacteria</td>\n",
       "      <td>Gammaproteobacteria</td>\n",
       "      <td>Betaproteobacteriales</td>\n",
       "      <td>Burkholderiaceae</td>\n",
       "      <td>Ralstonia</td>\n",
       "      <td>NaN</td>\n",
       "      <td>2</td>\n",
       "    </tr>\n",
       "    <tr>\n",
       "      <th>2</th>\n",
       "      <td>Bacteria</td>\n",
       "      <td>Proteobacteria</td>\n",
       "      <td>Gammaproteobacteria</td>\n",
       "      <td>Betaproteobacteriales</td>\n",
       "      <td>Burkholderiaceae</td>\n",
       "      <td>Ralstonia</td>\n",
       "      <td>NaN</td>\n",
       "      <td>3</td>\n",
       "    </tr>\n",
       "    <tr>\n",
       "      <th>3</th>\n",
       "      <td>Bacteria</td>\n",
       "      <td>Proteobacteria</td>\n",
       "      <td>Gammaproteobacteria</td>\n",
       "      <td>Betaproteobacteriales</td>\n",
       "      <td>Burkholderiaceae</td>\n",
       "      <td>Ralstonia</td>\n",
       "      <td>NaN</td>\n",
       "      <td>4</td>\n",
       "    </tr>\n",
       "    <tr>\n",
       "      <th>4</th>\n",
       "      <td>Bacteria</td>\n",
       "      <td>Actinobacteria</td>\n",
       "      <td>Actinobacteria</td>\n",
       "      <td>Corynebacteriales</td>\n",
       "      <td>Corynebacteriaceae</td>\n",
       "      <td>Corynebacterium_1</td>\n",
       "      <td>NaN</td>\n",
       "      <td>5</td>\n",
       "    </tr>\n",
       "  </tbody>\n",
       "</table>\n",
       "</div>"
      ],
      "text/plain": [
       "    Kingdom          Phylum                Class                  Order  \\\n",
       "0  Bacteria  Proteobacteria  Gammaproteobacteria  Betaproteobacteriales   \n",
       "1  Bacteria  Proteobacteria  Gammaproteobacteria  Betaproteobacteriales   \n",
       "2  Bacteria  Proteobacteria  Gammaproteobacteria  Betaproteobacteriales   \n",
       "3  Bacteria  Proteobacteria  Gammaproteobacteria  Betaproteobacteriales   \n",
       "4  Bacteria  Actinobacteria       Actinobacteria      Corynebacteriales   \n",
       "\n",
       "               Family              Genus Species  otu_index  \n",
       "0    Burkholderiaceae          Ralstonia     NaN          1  \n",
       "1    Burkholderiaceae          Ralstonia     NaN          2  \n",
       "2    Burkholderiaceae          Ralstonia     NaN          3  \n",
       "3    Burkholderiaceae          Ralstonia     NaN          4  \n",
       "4  Corynebacteriaceae  Corynebacterium_1     NaN          5  "
      ]
     },
     "execution_count": 15,
     "metadata": {},
     "output_type": "execute_result"
    }
   ],
   "source": [
    "tax_table['otu_index'] = range(1, 16577)\n",
    "tax_table.fillna('N/A', inplace=True)\n",
    "tax_table.head()"
   ]
  },
  {
   "cell_type": "code",
   "execution_count": 77,
   "metadata": {},
   "outputs": [
    {
     "name": "stdout",
     "output_type": "stream",
     "text": [
      "Kingdom 2\n",
      "Phylum 26\n",
      "Class 50\n",
      "Order 105\n",
      "Family 175\n",
      "Genus 438\n",
      "Species 93\n",
      "otu_index 16576\n"
     ]
    }
   ],
   "source": [
    "for col in tax_table.columns:\n",
    "    print(col, len(tax_table[col].value_counts()))"
   ]
  },
  {
   "cell_type": "code",
   "execution_count": 127,
   "metadata": {},
   "outputs": [],
   "source": [
    "encoders = {}\n",
    "\n",
    "for col in tax_table.columns[:-1]:\n",
    "\n",
    "    #Label encoder\n",
    "    le = preprocessing.LabelEncoder()\n",
    "    le.fit(tax_table[col].value_counts().index)\n",
    "#     labels = le.transform(tax_table[col].value_counts().index)\n",
    "\n",
    "    encoders[col] = le\n",
    "\n",
    "#le.inverse_transform(0)\n",
    "\n",
    "combined_labels = []\n",
    "\n",
    "for i, row in tax_table.iterrows():\n",
    "    \n",
    "    cur_encoding = ''\n",
    "    \n",
    "    for col in tax_table.columns[:-1]:\n",
    "\n",
    "        cur_col_encoding = str(encoders[col].transform([row[col]])[0])\n",
    "        cur_encoding += cur_col_encoding\n",
    "    \n",
    "    combined_labels.append(cur_encoding)"
   ]
  },
  {
   "cell_type": "code",
   "execution_count": 128,
   "metadata": {},
   "outputs": [],
   "source": [
    "tax_table['combined_code'] = combined_labels"
   ]
  },
  {
   "cell_type": "code",
   "execution_count": 129,
   "metadata": {},
   "outputs": [],
   "source": [
    "# np.unique(combined_labels, return_counts=True)"
   ]
  },
  {
   "cell_type": "code",
   "execution_count": 131,
   "metadata": {},
   "outputs": [
    {
     "data": {
      "text/html": [
       "<div>\n",
       "<style scoped>\n",
       "    .dataframe tbody tr th:only-of-type {\n",
       "        vertical-align: middle;\n",
       "    }\n",
       "\n",
       "    .dataframe tbody tr th {\n",
       "        vertical-align: top;\n",
       "    }\n",
       "\n",
       "    .dataframe thead th {\n",
       "        text-align: right;\n",
       "    }\n",
       "</style>\n",
       "<table border=\"1\" class=\"dataframe\">\n",
       "  <thead>\n",
       "    <tr style=\"text-align: right;\">\n",
       "      <th></th>\n",
       "      <th>Kingdom</th>\n",
       "      <th>Phylum</th>\n",
       "      <th>Class</th>\n",
       "      <th>Order</th>\n",
       "      <th>Family</th>\n",
       "      <th>Genus</th>\n",
       "      <th>Species</th>\n",
       "      <th>otu_index</th>\n",
       "      <th>combined_code</th>\n",
       "    </tr>\n",
       "  </thead>\n",
       "  <tbody>\n",
       "    <tr>\n",
       "      <th>0</th>\n",
       "      <td>Bacteria</td>\n",
       "      <td>Proteobacteria</td>\n",
       "      <td>Gammaproteobacteria</td>\n",
       "      <td>Betaproteobacteriales</td>\n",
       "      <td>Burkholderiaceae</td>\n",
       "      <td>Ralstonia</td>\n",
       "      <td>N/A</td>\n",
       "      <td>1</td>\n",
       "      <td>0202216243390</td>\n",
       "    </tr>\n",
       "    <tr>\n",
       "      <th>1</th>\n",
       "      <td>Bacteria</td>\n",
       "      <td>Proteobacteria</td>\n",
       "      <td>Gammaproteobacteria</td>\n",
       "      <td>Betaproteobacteriales</td>\n",
       "      <td>Burkholderiaceae</td>\n",
       "      <td>Ralstonia</td>\n",
       "      <td>N/A</td>\n",
       "      <td>2</td>\n",
       "      <td>0202216243390</td>\n",
       "    </tr>\n",
       "    <tr>\n",
       "      <th>2</th>\n",
       "      <td>Bacteria</td>\n",
       "      <td>Proteobacteria</td>\n",
       "      <td>Gammaproteobacteria</td>\n",
       "      <td>Betaproteobacteriales</td>\n",
       "      <td>Burkholderiaceae</td>\n",
       "      <td>Ralstonia</td>\n",
       "      <td>N/A</td>\n",
       "      <td>3</td>\n",
       "      <td>0202216243390</td>\n",
       "    </tr>\n",
       "    <tr>\n",
       "      <th>3</th>\n",
       "      <td>Bacteria</td>\n",
       "      <td>Proteobacteria</td>\n",
       "      <td>Gammaproteobacteria</td>\n",
       "      <td>Betaproteobacteriales</td>\n",
       "      <td>Burkholderiaceae</td>\n",
       "      <td>Ralstonia</td>\n",
       "      <td>N/A</td>\n",
       "      <td>4</td>\n",
       "      <td>0202216243390</td>\n",
       "    </tr>\n",
       "    <tr>\n",
       "      <th>4</th>\n",
       "      <td>Bacteria</td>\n",
       "      <td>Actinobacteria</td>\n",
       "      <td>Actinobacteria</td>\n",
       "      <td>Corynebacteriales</td>\n",
       "      <td>Corynebacteriaceae</td>\n",
       "      <td>Corynebacterium_1</td>\n",
       "      <td>N/A</td>\n",
       "      <td>5</td>\n",
       "      <td>01226361050</td>\n",
       "    </tr>\n",
       "    <tr>\n",
       "      <th>5</th>\n",
       "      <td>Bacteria</td>\n",
       "      <td>Firmicutes</td>\n",
       "      <td>Bacilli</td>\n",
       "      <td>Lactobacillales</td>\n",
       "      <td>Streptococcaceae</td>\n",
       "      <td>Streptococcus</td>\n",
       "      <td>N/A</td>\n",
       "      <td>6</td>\n",
       "      <td>0138521534020</td>\n",
       "    </tr>\n",
       "    <tr>\n",
       "      <th>6</th>\n",
       "      <td>Bacteria</td>\n",
       "      <td>Proteobacteria</td>\n",
       "      <td>Gammaproteobacteria</td>\n",
       "      <td>Betaproteobacteriales</td>\n",
       "      <td>Burkholderiaceae</td>\n",
       "      <td>Ralstonia</td>\n",
       "      <td>N/A</td>\n",
       "      <td>7</td>\n",
       "      <td>0202216243390</td>\n",
       "    </tr>\n",
       "    <tr>\n",
       "      <th>7</th>\n",
       "      <td>Bacteria</td>\n",
       "      <td>Firmicutes</td>\n",
       "      <td>Bacilli</td>\n",
       "      <td>Lactobacillales</td>\n",
       "      <td>Streptococcaceae</td>\n",
       "      <td>Streptococcus</td>\n",
       "      <td>N/A</td>\n",
       "      <td>8</td>\n",
       "      <td>0138521534020</td>\n",
       "    </tr>\n",
       "    <tr>\n",
       "      <th>8</th>\n",
       "      <td>Bacteria</td>\n",
       "      <td>Firmicutes</td>\n",
       "      <td>Bacilli</td>\n",
       "      <td>Lactobacillales</td>\n",
       "      <td>Streptococcaceae</td>\n",
       "      <td>Streptococcus</td>\n",
       "      <td>N/A</td>\n",
       "      <td>9</td>\n",
       "      <td>0138521534020</td>\n",
       "    </tr>\n",
       "    <tr>\n",
       "      <th>9</th>\n",
       "      <td>Bacteria</td>\n",
       "      <td>Actinobacteria</td>\n",
       "      <td>Actinobacteria</td>\n",
       "      <td>Corynebacteriales</td>\n",
       "      <td>Corynebacteriaceae</td>\n",
       "      <td>Corynebacterium_1</td>\n",
       "      <td>N/A</td>\n",
       "      <td>10</td>\n",
       "      <td>01226361050</td>\n",
       "    </tr>\n",
       "  </tbody>\n",
       "</table>\n",
       "</div>"
      ],
      "text/plain": [
       "    Kingdom          Phylum                Class                  Order  \\\n",
       "0  Bacteria  Proteobacteria  Gammaproteobacteria  Betaproteobacteriales   \n",
       "1  Bacteria  Proteobacteria  Gammaproteobacteria  Betaproteobacteriales   \n",
       "2  Bacteria  Proteobacteria  Gammaproteobacteria  Betaproteobacteriales   \n",
       "3  Bacteria  Proteobacteria  Gammaproteobacteria  Betaproteobacteriales   \n",
       "4  Bacteria  Actinobacteria       Actinobacteria      Corynebacteriales   \n",
       "5  Bacteria      Firmicutes              Bacilli        Lactobacillales   \n",
       "6  Bacteria  Proteobacteria  Gammaproteobacteria  Betaproteobacteriales   \n",
       "7  Bacteria      Firmicutes              Bacilli        Lactobacillales   \n",
       "8  Bacteria      Firmicutes              Bacilli        Lactobacillales   \n",
       "9  Bacteria  Actinobacteria       Actinobacteria      Corynebacteriales   \n",
       "\n",
       "               Family              Genus Species  otu_index  combined_code  \n",
       "0    Burkholderiaceae          Ralstonia     N/A          1  0202216243390  \n",
       "1    Burkholderiaceae          Ralstonia     N/A          2  0202216243390  \n",
       "2    Burkholderiaceae          Ralstonia     N/A          3  0202216243390  \n",
       "3    Burkholderiaceae          Ralstonia     N/A          4  0202216243390  \n",
       "4  Corynebacteriaceae  Corynebacterium_1     N/A          5    01226361050  \n",
       "5    Streptococcaceae      Streptococcus     N/A          6  0138521534020  \n",
       "6    Burkholderiaceae          Ralstonia     N/A          7  0202216243390  \n",
       "7    Streptococcaceae      Streptococcus     N/A          8  0138521534020  \n",
       "8    Streptococcaceae      Streptococcus     N/A          9  0138521534020  \n",
       "9  Corynebacteriaceae  Corynebacterium_1     N/A         10    01226361050  "
      ]
     },
     "execution_count": 131,
     "metadata": {},
     "output_type": "execute_result"
    }
   ],
   "source": [
    "tax_table.head(10)"
   ]
  },
  {
   "cell_type": "markdown",
   "metadata": {},
   "source": [
    "### Combined"
   ]
  },
  {
   "cell_type": "code",
   "execution_count": 16,
   "metadata": {},
   "outputs": [],
   "source": [
    "otu_table.columns = tax_table['otu_index']"
   ]
  },
  {
   "cell_type": "code",
   "execution_count": 17,
   "metadata": {},
   "outputs": [],
   "source": [
    "otu_table['group'] = metadata['sample_type']"
   ]
  },
  {
   "cell_type": "code",
   "execution_count": 18,
   "metadata": {},
   "outputs": [],
   "source": [
    "otu_table['sex'] = metadata['host_sex']"
   ]
  },
  {
   "cell_type": "code",
   "execution_count": 19,
   "metadata": {},
   "outputs": [],
   "source": [
    "otu_table['oral_nasal'] = metadata['environment_biome']"
   ]
  },
  {
   "cell_type": "code",
   "execution_count": 20,
   "metadata": {},
   "outputs": [
    {
     "data": {
      "text/html": [
       "<div>\n",
       "<style scoped>\n",
       "    .dataframe tbody tr th:only-of-type {\n",
       "        vertical-align: middle;\n",
       "    }\n",
       "\n",
       "    .dataframe tbody tr th {\n",
       "        vertical-align: top;\n",
       "    }\n",
       "\n",
       "    .dataframe thead th {\n",
       "        text-align: right;\n",
       "    }\n",
       "</style>\n",
       "<table border=\"1\" class=\"dataframe\">\n",
       "  <thead>\n",
       "    <tr style=\"text-align: right;\">\n",
       "      <th>otu_index</th>\n",
       "      <th>1</th>\n",
       "      <th>2</th>\n",
       "      <th>3</th>\n",
       "      <th>4</th>\n",
       "      <th>5</th>\n",
       "      <th>6</th>\n",
       "      <th>7</th>\n",
       "      <th>8</th>\n",
       "      <th>9</th>\n",
       "      <th>10</th>\n",
       "      <th>...</th>\n",
       "      <th>16570</th>\n",
       "      <th>16571</th>\n",
       "      <th>16572</th>\n",
       "      <th>16573</th>\n",
       "      <th>16574</th>\n",
       "      <th>16575</th>\n",
       "      <th>16576</th>\n",
       "      <th>group</th>\n",
       "      <th>sex</th>\n",
       "      <th>oral_nasal</th>\n",
       "    </tr>\n",
       "  </thead>\n",
       "  <tbody>\n",
       "    <tr>\n",
       "      <th>0</th>\n",
       "      <td>0</td>\n",
       "      <td>0</td>\n",
       "      <td>0</td>\n",
       "      <td>0</td>\n",
       "      <td>0</td>\n",
       "      <td>0</td>\n",
       "      <td>0</td>\n",
       "      <td>2379</td>\n",
       "      <td>0</td>\n",
       "      <td>0</td>\n",
       "      <td>...</td>\n",
       "      <td>0</td>\n",
       "      <td>0</td>\n",
       "      <td>0</td>\n",
       "      <td>0</td>\n",
       "      <td>0</td>\n",
       "      <td>0</td>\n",
       "      <td>0</td>\n",
       "      <td>control</td>\n",
       "      <td>male</td>\n",
       "      <td>oral</td>\n",
       "    </tr>\n",
       "    <tr>\n",
       "      <th>1</th>\n",
       "      <td>0</td>\n",
       "      <td>0</td>\n",
       "      <td>0</td>\n",
       "      <td>0</td>\n",
       "      <td>0</td>\n",
       "      <td>727</td>\n",
       "      <td>0</td>\n",
       "      <td>0</td>\n",
       "      <td>193</td>\n",
       "      <td>0</td>\n",
       "      <td>...</td>\n",
       "      <td>0</td>\n",
       "      <td>0</td>\n",
       "      <td>0</td>\n",
       "      <td>0</td>\n",
       "      <td>0</td>\n",
       "      <td>0</td>\n",
       "      <td>0</td>\n",
       "      <td>control</td>\n",
       "      <td>female</td>\n",
       "      <td>oral</td>\n",
       "    </tr>\n",
       "    <tr>\n",
       "      <th>2</th>\n",
       "      <td>10</td>\n",
       "      <td>0</td>\n",
       "      <td>0</td>\n",
       "      <td>0</td>\n",
       "      <td>0</td>\n",
       "      <td>4910</td>\n",
       "      <td>0</td>\n",
       "      <td>1947</td>\n",
       "      <td>0</td>\n",
       "      <td>0</td>\n",
       "      <td>...</td>\n",
       "      <td>0</td>\n",
       "      <td>0</td>\n",
       "      <td>0</td>\n",
       "      <td>0</td>\n",
       "      <td>0</td>\n",
       "      <td>0</td>\n",
       "      <td>0</td>\n",
       "      <td>control</td>\n",
       "      <td>male</td>\n",
       "      <td>oral</td>\n",
       "    </tr>\n",
       "    <tr>\n",
       "      <th>3</th>\n",
       "      <td>0</td>\n",
       "      <td>0</td>\n",
       "      <td>0</td>\n",
       "      <td>0</td>\n",
       "      <td>0</td>\n",
       "      <td>0</td>\n",
       "      <td>0</td>\n",
       "      <td>484</td>\n",
       "      <td>218</td>\n",
       "      <td>0</td>\n",
       "      <td>...</td>\n",
       "      <td>0</td>\n",
       "      <td>0</td>\n",
       "      <td>0</td>\n",
       "      <td>0</td>\n",
       "      <td>0</td>\n",
       "      <td>0</td>\n",
       "      <td>0</td>\n",
       "      <td>control</td>\n",
       "      <td>female</td>\n",
       "      <td>oral</td>\n",
       "    </tr>\n",
       "    <tr>\n",
       "      <th>4</th>\n",
       "      <td>0</td>\n",
       "      <td>0</td>\n",
       "      <td>0</td>\n",
       "      <td>0</td>\n",
       "      <td>0</td>\n",
       "      <td>0</td>\n",
       "      <td>0</td>\n",
       "      <td>0</td>\n",
       "      <td>403</td>\n",
       "      <td>0</td>\n",
       "      <td>...</td>\n",
       "      <td>0</td>\n",
       "      <td>0</td>\n",
       "      <td>0</td>\n",
       "      <td>0</td>\n",
       "      <td>0</td>\n",
       "      <td>0</td>\n",
       "      <td>0</td>\n",
       "      <td>control</td>\n",
       "      <td>male</td>\n",
       "      <td>oral</td>\n",
       "    </tr>\n",
       "  </tbody>\n",
       "</table>\n",
       "<p>5 rows × 16579 columns</p>\n",
       "</div>"
      ],
      "text/plain": [
       "otu_index   1  2  3  4  5     6  7     8    9  10     ...      16570  16571  \\\n",
       "0           0  0  0  0  0     0  0  2379    0   0     ...          0      0   \n",
       "1           0  0  0  0  0   727  0     0  193   0     ...          0      0   \n",
       "2          10  0  0  0  0  4910  0  1947    0   0     ...          0      0   \n",
       "3           0  0  0  0  0     0  0   484  218   0     ...          0      0   \n",
       "4           0  0  0  0  0     0  0     0  403   0     ...          0      0   \n",
       "\n",
       "otu_index  16572  16573  16574  16575  16576    group     sex  oral_nasal  \n",
       "0              0      0      0      0      0  control    male        oral  \n",
       "1              0      0      0      0      0  control  female        oral  \n",
       "2              0      0      0      0      0  control    male        oral  \n",
       "3              0      0      0      0      0  control  female        oral  \n",
       "4              0      0      0      0      0  control    male        oral  \n",
       "\n",
       "[5 rows x 16579 columns]"
      ]
     },
     "execution_count": 20,
     "metadata": {},
     "output_type": "execute_result"
    }
   ],
   "source": [
    "otu_table.head()"
   ]
  },
  {
   "cell_type": "markdown",
   "metadata": {},
   "source": [
    "## Data Exploration"
   ]
  },
  {
   "cell_type": "markdown",
   "metadata": {},
   "source": [
    "#### Check to see sample distribution"
   ]
  },
  {
   "cell_type": "code",
   "execution_count": 21,
   "metadata": {},
   "outputs": [],
   "source": [
    "male_df = otu_table[otu_table['sex'] == 'male']\n",
    "female_df = otu_table[otu_table['sex'] == 'female']"
   ]
  },
  {
   "cell_type": "code",
   "execution_count": 22,
   "metadata": {},
   "outputs": [
    {
     "data": {
      "text/plain": [
       "control    71\n",
       "PD         70\n",
       "Name: group, dtype: int64"
      ]
     },
     "execution_count": 22,
     "metadata": {},
     "output_type": "execute_result"
    }
   ],
   "source": [
    "male_df['group'].value_counts()"
   ]
  },
  {
   "cell_type": "code",
   "execution_count": 23,
   "metadata": {},
   "outputs": [
    {
     "data": {
      "text/plain": [
       "control    72\n",
       "PD         71\n",
       "Name: group, dtype: int64"
      ]
     },
     "execution_count": 23,
     "metadata": {},
     "output_type": "execute_result"
    }
   ],
   "source": [
    "female_df['group'].value_counts()"
   ]
  },
  {
   "cell_type": "code",
   "execution_count": 24,
   "metadata": {},
   "outputs": [
    {
     "data": {
      "text/plain": [
       "oral     73\n",
       "nasal    68\n",
       "Name: oral_nasal, dtype: int64"
      ]
     },
     "execution_count": 24,
     "metadata": {},
     "output_type": "execute_result"
    }
   ],
   "source": [
    "male_df['oral_nasal'].value_counts()"
   ]
  },
  {
   "cell_type": "code",
   "execution_count": 25,
   "metadata": {},
   "outputs": [
    {
     "data": {
      "text/plain": [
       "oral     75\n",
       "nasal    68\n",
       "Name: oral_nasal, dtype: int64"
      ]
     },
     "execution_count": 25,
     "metadata": {},
     "output_type": "execute_result"
    }
   ],
   "source": [
    "female_df['oral_nasal'].value_counts()"
   ]
  },
  {
   "cell_type": "markdown",
   "metadata": {},
   "source": [
    "All the groups seem to have the same number of samples which is good! "
   ]
  },
  {
   "cell_type": "markdown",
   "metadata": {},
   "source": [
    "#### Oral vs. Nasal"
   ]
  },
  {
   "cell_type": "code",
   "execution_count": 26,
   "metadata": {},
   "outputs": [],
   "source": [
    "oral_df = otu_table[otu_table['oral_nasal'] == 'oral']\n",
    "nasal_df = otu_table[otu_table['oral_nasal'] == 'nasal']"
   ]
  },
  {
   "cell_type": "code",
   "execution_count": 27,
   "metadata": {},
   "outputs": [
    {
     "data": {
      "text/plain": [
       "<matplotlib.axes._subplots.AxesSubplot at 0x26f31d69a90>"
      ]
     },
     "execution_count": 27,
     "metadata": {},
     "output_type": "execute_result"
    },
    {
     "data": {
      "image/png": "[encoded data removed]",
      "text/plain": [
       "<matplotlib.figure.Figure at 0x26f31d69160>"
      ]
     },
     "metadata": {},
     "output_type": "display_data"
    }
   ],
   "source": [
    "top_10_oral = oral_df.max(axis=1).sort_values(ascending=False)[0:10]\n",
    "sns.barplot(x=top_10_oral.index, y=top_10_oral, order = top_10_oral.index)"
   ]
  },
  {
   "cell_type": "code",
   "execution_count": 28,
   "metadata": {},
   "outputs": [
    {
     "name": "stdout",
     "output_type": "stream",
     "text": [
      "Phylum:  Firmicutes\n",
      "Genus:  Streptococcus\n",
      "-----\n",
      "Phylum:  Proteobacteria\n",
      "Genus:  Ralstonia\n",
      "-----\n",
      "Phylum:  Actinobacteria\n",
      "Genus:  Corynebacterium_1\n",
      "-----\n",
      "Phylum:  Proteobacteria\n",
      "Genus:  Ralstonia\n",
      "-----\n",
      "Phylum:  Firmicutes\n",
      "Genus:  Streptococcus\n",
      "-----\n",
      "Phylum:  Actinobacteria\n",
      "Genus:  Corynebacterium_1\n",
      "-----\n",
      "Phylum:  Actinobacteria\n",
      "Genus:  Rothia\n",
      "-----\n",
      "Phylum:  Firmicutes\n",
      "Genus:  Streptococcus\n",
      "-----\n",
      "Phylum:  Actinobacteria\n",
      "Genus:  Corynebacterium_1\n",
      "-----\n",
      "Phylum:  Proteobacteria\n",
      "Genus:  Moraxella\n",
      "-----\n"
     ]
    }
   ],
   "source": [
    "for bacteria in top_10_oral.index:\n",
    "    print('Phylum: ', tax_table.iloc[bacteria]['Phylum'])\n",
    "    print('Genus: ', tax_table.iloc[bacteria]['Genus'])\n",
    "    print('-----')"
   ]
  },
  {
   "cell_type": "code",
   "execution_count": 29,
   "metadata": {},
   "outputs": [
    {
     "data": {
      "text/plain": [
       "<matplotlib.axes._subplots.AxesSubplot at 0x26f31e89e80>"
      ]
     },
     "execution_count": 29,
     "metadata": {},
     "output_type": "execute_result"
    },
    {
     "data": {
      "image/png": "[encoded data removed]",
      "text/plain": [
       "<matplotlib.figure.Figure at 0x26f31d69278>"
      ]
     },
     "metadata": {},
     "output_type": "display_data"
    }
   ],
   "source": [
    "top_10_nasal = nasal_df.max(axis=1).sort_values(ascending=False)[0:10]\n",
    "sns.barplot(x=top_10_nasal.index, y=top_10_nasal, order = top_10_nasal.index)"
   ]
  },
  {
   "cell_type": "code",
   "execution_count": 30,
   "metadata": {},
   "outputs": [
    {
     "name": "stdout",
     "output_type": "stream",
     "text": [
      "Phylum:  Proteobacteria\n",
      "Genus:  Neisseria\n",
      "-----\n",
      "Phylum:  Actinobacteria\n",
      "Genus:  Corynebacterium_1\n",
      "-----\n",
      "Phylum:  Firmicutes\n",
      "Genus:  Streptococcus\n",
      "-----\n",
      "Phylum:  Proteobacteria\n",
      "Genus:  Ralstonia\n",
      "-----\n",
      "Phylum:  Actinobacteria\n",
      "Genus:  Corynebacterium_1\n",
      "-----\n",
      "Phylum:  Proteobacteria\n",
      "Genus:  Neisseria\n",
      "-----\n",
      "Phylum:  Firmicutes\n",
      "Genus:  Streptococcus\n",
      "-----\n",
      "Phylum:  Firmicutes\n",
      "Genus:  Streptococcus\n",
      "-----\n",
      "Phylum:  Fusobacteria\n",
      "Genus:  Leptotrichia\n",
      "-----\n",
      "Phylum:  Firmicutes\n",
      "Genus:  Streptococcus\n",
      "-----\n"
     ]
    }
   ],
   "source": [
    "for bacteria in top_10_nasal.index:\n",
    "    print('Phylum: ', tax_table.iloc[bacteria]['Phylum'])\n",
    "    print('Genus: ', tax_table.iloc[bacteria]['Genus'])\n",
    "    print('-----')"
   ]
  },
  {
   "cell_type": "code",
   "execution_count": 31,
   "metadata": {},
   "outputs": [
    {
     "data": {
      "text/plain": [
       "set()"
      ]
     },
     "execution_count": 31,
     "metadata": {},
     "output_type": "execute_result"
    }
   ],
   "source": [
    "set(top_10_nasal.index).intersection(set(top_10_oral))"
   ]
  },
  {
   "cell_type": "markdown",
   "metadata": {},
   "source": [
    "Top 10 bacteria are different from oral to nasal"
   ]
  },
  {
   "cell_type": "markdown",
   "metadata": {},
   "source": [
    "#### Control vs. PD"
   ]
  },
  {
   "cell_type": "code",
   "execution_count": 32,
   "metadata": {},
   "outputs": [],
   "source": [
    "control_df = otu_table[otu_table['group'] == 'control']\n",
    "pd_df = otu_table[otu_table['group'] == 'PD']"
   ]
  },
  {
   "cell_type": "code",
   "execution_count": 33,
   "metadata": {},
   "outputs": [
    {
     "data": {
      "text/plain": [
       "<matplotlib.axes._subplots.AxesSubplot at 0x26f31f7d6a0>"
      ]
     },
     "execution_count": 33,
     "metadata": {},
     "output_type": "execute_result"
    },
    {
     "data": {
      "image/png": "[encoded data removed]",
      "text/plain": [
       "<matplotlib.figure.Figure at 0x26f31e92b00>"
      ]
     },
     "metadata": {},
     "output_type": "display_data"
    }
   ],
   "source": [
    "top_10_control = control_df.max(axis=1).sort_values(ascending=False)[0:10]\n",
    "sns.barplot(x=top_10_control.index, y=top_10_control, order = top_10_control.index)"
   ]
  },
  {
   "cell_type": "code",
   "execution_count": 34,
   "metadata": {},
   "outputs": [
    {
     "name": "stdout",
     "output_type": "stream",
     "text": [
      "Phylum:  Actinobacteria\n",
      "Genus:  Corynebacterium_1\n",
      "-----\n",
      "Phylum:  Firmicutes\n",
      "Genus:  Streptococcus\n",
      "-----\n",
      "Phylum:  Actinobacteria\n",
      "Genus:  Corynebacterium_1\n",
      "-----\n",
      "Phylum:  Firmicutes\n",
      "Genus:  Streptococcus\n",
      "-----\n",
      "Phylum:  Firmicutes\n",
      "Genus:  Streptococcus\n",
      "-----\n",
      "Phylum:  Proteobacteria\n",
      "Genus:  Ralstonia\n",
      "-----\n",
      "Phylum:  Proteobacteria\n",
      "Genus:  Moraxella\n",
      "-----\n",
      "Phylum:  Actinobacteria\n",
      "Genus:  Corynebacterium_1\n",
      "-----\n",
      "Phylum:  Proteobacteria\n",
      "Genus:  Ralstonia\n",
      "-----\n",
      "Phylum:  Actinobacteria\n",
      "Genus:  Corynebacterium_1\n",
      "-----\n"
     ]
    }
   ],
   "source": [
    "for bacteria in top_10_control.index:\n",
    "    print('Phylum: ', tax_table.iloc[bacteria]['Phylum'])\n",
    "    print('Genus: ', tax_table.iloc[bacteria]['Genus'])\n",
    "    print('-----')"
   ]
  },
  {
   "cell_type": "code",
   "execution_count": 35,
   "metadata": {},
   "outputs": [
    {
     "data": {
      "text/plain": [
       "<matplotlib.axes._subplots.AxesSubplot at 0x26f347d0898>"
      ]
     },
     "execution_count": 35,
     "metadata": {},
     "output_type": "execute_result"
    },
    {
     "data": {
      "image/png": "[encoded data removed]",
      "text/plain": [
       "<matplotlib.figure.Figure at 0x26f3232f978>"
      ]
     },
     "metadata": {},
     "output_type": "display_data"
    }
   ],
   "source": [
    "top_10_pd = pd_df.max(axis=1).sort_values(ascending=False)[0:10]\n",
    "sns.barplot(x=top_10_pd.index, y=top_10_pd, order = top_10_pd.index)"
   ]
  },
  {
   "cell_type": "code",
   "execution_count": 36,
   "metadata": {},
   "outputs": [
    {
     "name": "stdout",
     "output_type": "stream",
     "text": [
      "Phylum:  Proteobacteria\n",
      "Genus:  Neisseria\n",
      "-----\n",
      "Phylum:  Proteobacteria\n",
      "Genus:  Ralstonia\n",
      "-----\n",
      "Phylum:  Proteobacteria\n",
      "Genus:  Neisseria\n",
      "-----\n",
      "Phylum:  Firmicutes\n",
      "Genus:  Streptococcus\n",
      "-----\n",
      "Phylum:  Fusobacteria\n",
      "Genus:  Leptotrichia\n",
      "-----\n",
      "Phylum:  Firmicutes\n",
      "Genus:  Streptococcus\n",
      "-----\n",
      "Phylum:  Actinobacteria\n",
      "Genus:  Corynebacterium_1\n",
      "-----\n",
      "Phylum:  Actinobacteria\n",
      "Genus:  Corynebacterium_1\n",
      "-----\n",
      "Phylum:  Actinobacteria\n",
      "Genus:  Corynebacterium_1\n",
      "-----\n",
      "Phylum:  Firmicutes\n",
      "Genus:  Streptococcus\n",
      "-----\n"
     ]
    }
   ],
   "source": [
    "for bacteria in top_10_pd.index:\n",
    "    print('Phylum: ', tax_table.iloc[bacteria]['Phylum'])\n",
    "    print('Genus: ', tax_table.iloc[bacteria]['Genus'])\n",
    "    print('-----')"
   ]
  },
  {
   "cell_type": "code",
   "execution_count": 37,
   "metadata": {},
   "outputs": [
    {
     "data": {
      "text/plain": [
       "set()"
      ]
     },
     "execution_count": 37,
     "metadata": {},
     "output_type": "execute_result"
    }
   ],
   "source": [
    "set(top_10_control.index).intersection(set(top_10_pd))"
   ]
  },
  {
   "cell_type": "markdown",
   "metadata": {},
   "source": [
    "Hmmm...top 10 control is different than pd as well...suspicious or interesting?"
   ]
  },
  {
   "cell_type": "markdown",
   "metadata": {},
   "source": [
    "## ML"
   ]
  },
  {
   "cell_type": "code",
   "execution_count": 38,
   "metadata": {},
   "outputs": [],
   "source": [
    "#Imports\n",
    "from sklearn import preprocessing\n",
    "from sklearn.linear_model import LogisticRegression\n",
    "from sklearn.svm import LinearSVC\n",
    "from sklearn.ensemble import RandomForestClassifier\n",
    "from sklearn.model_selection import cross_val_score\n",
    "from sklearn.preprocessing import StandardScaler\n",
    "from sklearn.decomposition import PCA, TruncatedSVD"
   ]
  },
  {
   "cell_type": "code",
   "execution_count": 39,
   "metadata": {},
   "outputs": [
    {
     "data": {
      "text/plain": [
       "control    143\n",
       "PD         141\n",
       "Name: group, dtype: int64"
      ]
     },
     "execution_count": 39,
     "metadata": {},
     "output_type": "execute_result"
    }
   ],
   "source": [
    "otu_table['group'].value_counts()"
   ]
  },
  {
   "cell_type": "code",
   "execution_count": 40,
   "metadata": {},
   "outputs": [],
   "source": [
    "#Label encoder\n",
    "le = preprocessing.LabelEncoder()\n",
    "le.fit(otu_table['group'])\n",
    "labels = le.transform(otu_table['group'])"
   ]
  },
  {
   "cell_type": "code",
   "execution_count": 41,
   "metadata": {},
   "outputs": [
    {
     "name": "stderr",
     "output_type": "stream",
     "text": [
      "C:\\Users\\danil\\Anaconda3\\lib\\site-packages\\sklearn\\utils\\validation.py:475: DataConversionWarning: Data with input dtype object was converted to float64 by StandardScaler.\n",
      "  warnings.warn(msg, DataConversionWarning)\n",
      "C:\\Users\\danil\\Anaconda3\\lib\\site-packages\\sklearn\\utils\\validation.py:475: DataConversionWarning: Data with input dtype object was converted to float64 by StandardScaler.\n",
      "  warnings.warn(msg, DataConversionWarning)\n"
     ]
    }
   ],
   "source": [
    "#Preprocess\n",
    "X = np.array(otu_table)[:,:-3]\n",
    "\n",
    "#Scale\n",
    "X_standard = StandardScaler().fit_transform(X)\n",
    "\n",
    "svd = TruncatedSVD(n_components=100)\n",
    "components = svd.fit_transform(X)\n",
    "# svd.components_.shape\n",
    "# X.shape"
   ]
  },
  {
   "cell_type": "code",
   "execution_count": 42,
   "metadata": {},
   "outputs": [
    {
     "name": "stdout",
     "output_type": "stream",
     "text": [
      "Cross validation for each model starting...\n",
      "LR\n",
      "Cross Val Scores:  [ 0.63333333  0.4137931   0.68965517  0.35714286  0.53571429  0.35714286\n",
      "  0.5         0.64285714  0.42857143  0.5       ]\n",
      "Average Score:  0.505821018062\n",
      "---\n",
      "Linear SVM\n",
      "Cross Val Scores:  [ 0.53333333  0.51724138  0.68965517  0.46428571  0.5         0.5\n",
      "  0.46428571  0.75        0.57142857  0.42857143]\n",
      "Average Score:  0.541880131363\n",
      "---\n",
      "RF\n",
      "Cross Val Scores:  [ 0.56666667  0.48275862  0.51724138  0.67857143  0.71428571  0.5\n",
      "  0.46428571  0.5         0.46428571  0.42857143]\n",
      "Average Score:  0.531666666667\n",
      "---\n"
     ]
    }
   ],
   "source": [
    "#Control vs. PD prediction with svd\n",
    "\n",
    "models = [LogisticRegression(penalty='l1'), LinearSVC(), RandomForestClassifier()]\n",
    "model_names = ['LR', 'Linear SVM', 'RF']\n",
    "# lm = LogisticRegression(penalty='l1')\n",
    "# lm.fit(X, labels)\n",
    "\n",
    "print('Cross validation for each model starting...')\n",
    "for i in range(len(models)):\n",
    "    print(model_names[i])\n",
    "    \n",
    "    cross_val = (cross_val_score(models[i], components, labels, cv=10))\n",
    "    \n",
    "    print('Cross Val Scores: ', cross_val)\n",
    "    print('Average Score: ', cross_val.mean())\n",
    "    print('---')"
   ]
  },
  {
   "cell_type": "code",
   "execution_count": 43,
   "metadata": {},
   "outputs": [
    {
     "name": "stdout",
     "output_type": "stream",
     "text": [
      "Cross validation for each model starting...\n",
      "LR\n",
      "Cross Val Scores:  [ 0.6         0.44827586  0.55172414  0.5         0.60714286  0.57142857\n",
      "  0.53571429  0.53571429  0.35714286  0.42857143]\n",
      "Average Score:  0.513571428571\n",
      "---\n",
      "Linear SVM\n",
      "Cross Val Scores:  [ 0.56666667  0.62068966  0.65517241  0.5         0.57142857  0.42857143\n",
      "  0.5         0.60714286  0.35714286  0.57142857]\n",
      "Average Score:  0.537824302135\n",
      "---\n",
      "RF\n",
      "Cross Val Scores:  [ 0.66666667  0.4137931   0.44827586  0.75        0.67857143  0.46428571\n",
      "  0.42857143  0.60714286  0.60714286  0.53571429]\n",
      "Average Score:  0.560016420361\n",
      "---\n"
     ]
    }
   ],
   "source": [
    "#Control vs. PD prediction with scaling\n",
    "\n",
    "models = [LogisticRegression(penalty='l1'), LinearSVC(), RandomForestClassifier()]\n",
    "model_names = ['LR', 'Linear SVM', 'RF']\n",
    "# lm = LogisticRegression(penalty='l1')\n",
    "# lm.fit(X, labels)\n",
    "\n",
    "print('Cross validation for each model starting...')\n",
    "for i in range(len(models)):\n",
    "    print(model_names[i])\n",
    "    \n",
    "    cross_val = (cross_val_score(models[i], X_standard, labels, cv=10))\n",
    "    \n",
    "    print('Cross Val Scores: ', cross_val)\n",
    "    print('Average Score: ', cross_val.mean())\n",
    "    print('---')"
   ]
  },
  {
   "cell_type": "code",
   "execution_count": 44,
   "metadata": {},
   "outputs": [
    {
     "name": "stdout",
     "output_type": "stream",
     "text": [
      "Cross validation for each model starting...\n",
      "LR\n",
      "Cross Val Scores:  [ 0.6         0.44827586  0.55172414  0.46428571  0.53571429  0.46428571\n",
      "  0.53571429  0.42857143  0.57142857  0.35714286]\n",
      "Average Score:  0.495714285714\n",
      "---\n",
      "Linear SVM\n",
      "Cross Val Scores:  [ 0.63333333  0.51724138  0.5862069   0.53571429  0.60714286  0.39285714\n",
      "  0.57142857  0.39285714  0.5         0.5       ]\n",
      "Average Score:  0.52367816092\n",
      "---\n",
      "RF\n",
      "Cross Val Scores:  [ 0.5         0.4137931   0.48275862  0.57142857  0.60714286  0.53571429\n",
      "  0.28571429  0.42857143  0.39285714  0.53571429]\n",
      "Average Score:  0.475369458128\n",
      "---\n"
     ]
    }
   ],
   "source": [
    "#Control vs. PD prediction\n",
    "\n",
    "models = [LogisticRegression(penalty='l1'), LinearSVC(), RandomForestClassifier()]\n",
    "model_names = ['LR', 'Linear SVM', 'RF']\n",
    "# lm = LogisticRegression(penalty='l1')\n",
    "# lm.fit(X, labels)\n",
    "\n",
    "print('Cross validation for each model starting...')\n",
    "for i in range(len(models)):\n",
    "    print(model_names[i])\n",
    "    \n",
    "    cross_val = (cross_val_score(models[i], X, labels, cv=10))\n",
    "    \n",
    "    print('Cross Val Scores: ', cross_val)\n",
    "    print('Average Score: ', cross_val.mean())\n",
    "    print('---')"
   ]
  },
  {
   "cell_type": "code",
   "execution_count": 45,
   "metadata": {},
   "outputs": [
    {
     "name": "stdout",
     "output_type": "stream",
     "text": [
      "Cross validation for each model starting...\n",
      "LR\n",
      "Cross Val Scores:  [ 0.6         0.51724138  0.4137931   0.57142857  0.67857143  0.53571429\n",
      "  0.75        0.64285714  0.57142857  0.46428571]\n",
      "Average Score:  0.574532019704\n",
      "---\n",
      "Linear SVM\n",
      "Cross Val Scores:  [ 0.63333333  0.55172414  0.44827586  0.57142857  0.64285714  0.57142857\n",
      "  0.67857143  0.60714286  0.5         0.46428571]\n",
      "Average Score:  0.566904761905\n",
      "---\n",
      "RF\n",
      "Cross Val Scores:  [ 0.4         0.48275862  0.51724138  0.53571429  0.46428571  0.67857143\n",
      "  0.57142857  0.57142857  0.64285714  0.46428571]\n",
      "Average Score:  0.532857142857\n",
      "---\n"
     ]
    }
   ],
   "source": [
    "#Sex prediction\n",
    "\n",
    "#Label encoder\n",
    "le = preprocessing.LabelEncoder()\n",
    "le.fit(otu_table['sex'])\n",
    "labels = le.transform(otu_table['sex'])\n",
    "\n",
    "#Preprocess\n",
    "X = np.array(otu_table)[:,:-3]\n",
    "\n",
    "models = [LogisticRegression(penalty='l1'), LinearSVC(), RandomForestClassifier()]\n",
    "model_names = ['LR', 'Linear SVM', 'RF']\n",
    "# lm = LogisticRegression(penalty='l1')\n",
    "# lm.fit(X, labels)\n",
    "\n",
    "print('Cross validation for each model starting...')\n",
    "for i in range(len(models)):\n",
    "    print(model_names[i])\n",
    "    \n",
    "    cross_val = (cross_val_score(models[i], X, labels, cv=10))\n",
    "    \n",
    "    print('Cross Val Scores: ', cross_val)\n",
    "    print('Average Score: ', cross_val.mean())\n",
    "    print('---')"
   ]
  },
  {
   "cell_type": "code",
   "execution_count": 46,
   "metadata": {},
   "outputs": [
    {
     "name": "stdout",
     "output_type": "stream",
     "text": [
      "Cross validation for each model starting...\n",
      "LR\n",
      "Cross Val Scores:  [ 1.  1.  1.  1.  1.  1.  1.  1.  1.  1.]\n",
      "Average Score:  1.0\n",
      "---\n",
      "Linear SVM\n",
      "Cross Val Scores:  [ 1.  1.  1.  1.  1.  1.  1.  1.  1.  1.]\n",
      "Average Score:  1.0\n",
      "---\n",
      "RF\n",
      "Cross Val Scores:  [ 1.          1.          1.          1.          0.96551724  1.          1.\n",
      "  1.          1.          1.        ]\n",
      "Average Score:  0.996551724138\n",
      "---\n"
     ]
    }
   ],
   "source": [
    "#Oral vs. nasal prediction\n",
    "\n",
    "#Label encoder\n",
    "le = preprocessing.LabelEncoder()\n",
    "le.fit(otu_table['oral_nasal'])\n",
    "labels = le.transform(otu_table['oral_nasal'])\n",
    "\n",
    "#Preprocess\n",
    "X = np.array(otu_table)[:,:-3]\n",
    "\n",
    "models = [LogisticRegression(penalty='l1'), LinearSVC(), RandomForestClassifier()]\n",
    "model_names = ['LR', 'Linear SVM', 'RF']\n",
    "# lm = LogisticRegression(penalty='l1')\n",
    "# lm.fit(X, labels)\n",
    "\n",
    "print('Cross validation for each model starting...')\n",
    "for i in range(len(models)):\n",
    "    print(model_names[i])\n",
    "    \n",
    "    cross_val = (cross_val_score(models[i], X, labels, cv=10))\n",
    "    \n",
    "    print('Cross Val Scores: ', cross_val)\n",
    "    print('Average Score: ', cross_val.mean())\n",
    "    print('---')"
   ]
  },
  {
   "cell_type": "code",
   "execution_count": null,
   "metadata": {},
   "outputs": [],
   "source": []
  }
 ],
 "metadata": {
  "kernelspec": {
   "display_name": "Python 3",
   "language": "python",
   "name": "python3"
  },
  "language_info": {
   "codemirror_mode": {
    "name": "ipython",
    "version": 3
   },
   "file_extension": ".py",
   "mimetype": "text/x-python",
   "name": "python",
   "nbconvert_exporter": "python",
   "pygments_lexer": "ipython3",
   "version": "3.6.4"
  }
 },
 "nbformat": 4,
 "nbformat_minor": 2
}
